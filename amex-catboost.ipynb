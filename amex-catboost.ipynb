{
 "cells": [
  {
   "cell_type": "markdown",
   "id": "23de65c4",
   "metadata": {
    "papermill": {
     "duration": 0.007003,
     "end_time": "2022-08-23T02:50:03.141949",
     "exception": false,
     "start_time": "2022-08-23T02:50:03.134946",
     "status": "completed"
    },
    "tags": []
   },
   "source": [
    "### I only made minimal changes (4 lines of code added) to the original [AMEX catboost notebook](https://www.kaggle.com/code/huseyincot/amex-catboost-0-793) Please upvote the original one made by https://www.kaggle.com/huseyincot "
   ]
  },
  {
   "cell_type": "markdown",
   "id": "15d132cb",
   "metadata": {
    "papermill": {
     "duration": 0.005396,
     "end_time": "2022-08-23T02:50:03.153543",
     "exception": false,
     "start_time": "2022-08-23T02:50:03.148147",
     "status": "completed"
    },
    "tags": []
   },
   "source": [
    "### The idea is simple. Kaggle Grandmasters [RADDAR](https://www.kaggle.com/code/raddar/the-data-has-random-uniform-noise-added/notebook) and [Chris](https://www.kaggle.com/competitions/amex-default-prediction/discussion/327651) have observed that random noise has been added to data, whose magnitude is about `[0,0.01]`. Therefore we can simply round the data to the 2nd decimals to \"reduce\" this noise. It is helpful for tree models since they don't need to search for better splits within that noisy range `[0,0.01]` and thus reduces overfitting."
   ]
  },
  {
   "cell_type": "markdown",
   "id": "3cca7af4",
   "metadata": {
    "papermill": {
     "duration": 0.00536,
     "end_time": "2022-08-23T02:50:03.164591",
     "exception": false,
     "start_time": "2022-08-23T02:50:03.159231",
     "status": "completed"
    },
    "tags": []
   },
   "source": [
    "### CV score is improved to `0.7923` from `0.7905` and LB score is improved to `0.794` from `0.793`"
   ]
  },
  {
   "cell_type": "markdown",
   "id": "4511f704",
   "metadata": {
    "papermill": {
     "duration": 0.006137,
     "end_time": "2022-08-23T02:50:03.176346",
     "exception": false,
     "start_time": "2022-08-23T02:50:03.170209",
     "status": "completed"
    },
    "tags": []
   },
   "source": [
    "# Import Libraries"
   ]
  },
  {
   "cell_type": "code",
   "execution_count": 1,
   "id": "993cb19b",
   "metadata": {
    "execution": {
     "iopub.execute_input": "2022-08-23T02:50:03.186940Z",
     "iopub.status.busy": "2022-08-23T02:50:03.186109Z",
     "iopub.status.idle": "2022-08-23T02:50:07.412336Z",
     "shell.execute_reply": "2022-08-23T02:50:07.411487Z"
    },
    "papermill": {
     "duration": 4.233943,
     "end_time": "2022-08-23T02:50:07.414740",
     "exception": false,
     "start_time": "2022-08-23T02:50:03.180797",
     "status": "completed"
    },
    "tags": []
   },
   "outputs": [],
   "source": [
    "import pandas as pd\n",
    "import numpy as np\n",
    "import cupy, cudf\n",
    "import gc\n",
    "from catboost import CatBoostClassifier\n",
    "from sklearn.model_selection import StratifiedKFold\n",
    "from sklearn.preprocessing import LabelEncoder"
   ]
  },
  {
   "cell_type": "markdown",
   "id": "5779c45f",
   "metadata": {
    "papermill": {
     "duration": 0.003681,
     "end_time": "2022-08-23T02:50:07.422667",
     "exception": false,
     "start_time": "2022-08-23T02:50:07.418986",
     "status": "completed"
    },
    "tags": []
   },
   "source": [
    "Aggregated data are shared in dataset: https://www.kaggle.com/datasets/huseyincot/amex-agg-data-pickle\n",
    "Data created with following code: https://www.kaggle.com/code/huseyincot/amex-agg-data-how-it-created"
   ]
  },
  {
   "cell_type": "code",
   "execution_count": 2,
   "id": "c4c069da",
   "metadata": {
    "execution": {
     "iopub.execute_input": "2022-08-23T02:50:07.431731Z",
     "iopub.status.busy": "2022-08-23T02:50:07.431033Z",
     "iopub.status.idle": "2022-08-23T02:50:07.436662Z",
     "shell.execute_reply": "2022-08-23T02:50:07.435892Z"
    },
    "papermill": {
     "duration": 0.012043,
     "end_time": "2022-08-23T02:50:07.438453",
     "exception": false,
     "start_time": "2022-08-23T02:50:07.426410",
     "status": "completed"
    },
    "tags": []
   },
   "outputs": [],
   "source": [
    "def read_file(path = '', usecols = None):\n",
    "    # LOAD DATAFRAME\n",
    "    if usecols is not None: df = pd.read_pickle(path)[usecols]\n",
    "    else: df = pd.read_pickle(path)\n",
    "    df = cudf.from_pandas(df)\n",
    "    # REDUCE DTYPE FOR CUSTOMER AND DATE\n",
    "    df['customer_ID'] = df['customer_ID'].str[-16:].str.hex_to_int().astype('int64')\n",
    "    #df.S_2 = cudf.to_datetime( df.S_2 )\n",
    "    # SORT BY CUSTOMER AND DATE (so agg('last') works correctly)\n",
    "    #df = df.sort_values(['customer_ID','S_2'])\n",
    "    #df = df.reset_index(drop=True)\n",
    "    # FILL NAN\n",
    "    df = df.fillna(-127) \n",
    "    print('shape of data:', df.shape)\n",
    "    \n",
    "    return df"
   ]
  },
  {
   "cell_type": "code",
   "execution_count": 3,
   "id": "63dfbe8f",
   "metadata": {
    "execution": {
     "iopub.execute_input": "2022-08-23T02:50:07.447112Z",
     "iopub.status.busy": "2022-08-23T02:50:07.446761Z",
     "iopub.status.idle": "2022-08-23T02:50:07.461441Z",
     "shell.execute_reply": "2022-08-23T02:50:07.460675Z"
    },
    "papermill": {
     "duration": 0.020967,
     "end_time": "2022-08-23T02:50:07.463147",
     "exception": false,
     "start_time": "2022-08-23T02:50:07.442180",
     "status": "completed"
    },
    "tags": []
   },
   "outputs": [
    {
     "name": "stdout",
     "output_type": "stream",
     "text": [
      "860\n",
      "855\n"
     ]
    }
   ],
   "source": [
    "features = pd.read_pickle('../input/amex-efv2/important_feature_60_2.pkl')\n",
    "print(len(features))\n",
    "features = [column for column in features if 'B_29' not in column]\n",
    "print(len(features))"
   ]
  },
  {
   "cell_type": "code",
   "execution_count": 4,
   "id": "be8d3113",
   "metadata": {
    "execution": {
     "iopub.execute_input": "2022-08-23T02:50:07.471878Z",
     "iopub.status.busy": "2022-08-23T02:50:07.471595Z",
     "iopub.status.idle": "2022-08-23T02:51:18.307671Z",
     "shell.execute_reply": "2022-08-23T02:51:18.306805Z"
    },
    "papermill": {
     "duration": 70.846711,
     "end_time": "2022-08-23T02:51:18.313757",
     "exception": false,
     "start_time": "2022-08-23T02:50:07.467046",
     "status": "completed"
    },
    "tags": []
   },
   "outputs": [
    {
     "name": "stdout",
     "output_type": "stream",
     "text": [
      "shape of data: (458913, 857)\n",
      "shape of data: (924621, 856)\n"
     ]
    }
   ],
   "source": [
    "TRAIN_PATH = '../input/amex-bruteforce-features/train_v3_loaded.pkl'\n",
    "train = read_file(path = TRAIN_PATH, usecols=features+['customer_ID','target'])\n",
    "TEST_PATH = '../input/amex-bruteforce-features/test_v3_loaded.pkl'\n",
    "test = read_file(path = TEST_PATH,usecols=features+['customer_ID'])"
   ]
  },
  {
   "cell_type": "markdown",
   "id": "cf0f95da",
   "metadata": {
    "papermill": {
     "duration": 0.003845,
     "end_time": "2022-08-23T02:51:18.321726",
     "exception": false,
     "start_time": "2022-08-23T02:51:18.317881",
     "status": "completed"
    },
    "tags": []
   },
   "source": [
    "### The only change I made is the cell below."
   ]
  },
  {
   "cell_type": "code",
   "execution_count": 5,
   "id": "428f2f55",
   "metadata": {
    "execution": {
     "iopub.execute_input": "2022-08-23T02:51:18.331154Z",
     "iopub.status.busy": "2022-08-23T02:51:18.330541Z",
     "iopub.status.idle": "2022-08-23T02:51:18.362619Z",
     "shell.execute_reply": "2022-08-23T02:51:18.361809Z"
    },
    "papermill": {
     "duration": 0.038568,
     "end_time": "2022-08-23T02:51:18.364259",
     "exception": false,
     "start_time": "2022-08-23T02:51:18.325691",
     "status": "completed"
    },
    "tags": []
   },
   "outputs": [],
   "source": [
    "for col in test.columns:\n",
    "    if test[col].dtype=='float16':\n",
    "        train[col] = train[col].astype('float32').round(decimals=2).astype('float16')\n",
    "        test[col] = test[col].astype('float32').round(decimals=2).astype('float16')"
   ]
  },
  {
   "cell_type": "markdown",
   "id": "b0a0c590",
   "metadata": {
    "papermill": {
     "duration": 0.003768,
     "end_time": "2022-08-23T02:51:18.372007",
     "exception": false,
     "start_time": "2022-08-23T02:51:18.368239",
     "status": "completed"
    },
    "tags": []
   },
   "source": [
    "# Competition Metric"
   ]
  },
  {
   "cell_type": "code",
   "execution_count": 6,
   "id": "3eb804bb",
   "metadata": {
    "execution": {
     "iopub.execute_input": "2022-08-23T02:51:18.381272Z",
     "iopub.status.busy": "2022-08-23T02:51:18.380746Z",
     "iopub.status.idle": "2022-08-23T02:51:18.391540Z",
     "shell.execute_reply": "2022-08-23T02:51:18.390730Z"
    },
    "papermill": {
     "duration": 0.017283,
     "end_time": "2022-08-23T02:51:18.393261",
     "exception": false,
     "start_time": "2022-08-23T02:51:18.375978",
     "status": "completed"
    },
    "tags": []
   },
   "outputs": [],
   "source": [
    "def amex_metric(y_true: pd.DataFrame, y_pred: pd.DataFrame) -> float:\n",
    "    def top_four_percent_captured(y_true: pd.DataFrame, y_pred: pd.DataFrame) -> float:\n",
    "        df = (pd.concat([y_true, y_pred], axis='columns')\n",
    "              .sort_values('prediction', ascending=False))\n",
    "        df['weight'] = df['target'].apply(lambda x: 20 if x == 0 else 1)\n",
    "        four_pct_cutoff = int(0.04 * df['weight'].sum())\n",
    "        df['weight_cumsum'] = df['weight'].cumsum()\n",
    "        df_cutoff = df.loc[df['weight_cumsum'] <= four_pct_cutoff]\n",
    "        return (df_cutoff['target'] == 1).sum() / (df['target'] == 1).sum()\n",
    "\n",
    "    def weighted_gini(y_true: pd.DataFrame, y_pred: pd.DataFrame) -> float:\n",
    "        df = (pd.concat([y_true, y_pred], axis='columns')\n",
    "              .sort_values('prediction', ascending=False))\n",
    "        df['weight'] = df['target'].apply(lambda x: 20 if x == 0 else 1)\n",
    "        df['random'] = (df['weight'] / df['weight'].sum()).cumsum()\n",
    "        total_pos = (df['target'] * df['weight']).sum()\n",
    "        df['cum_pos_found'] = (df['target'] * df['weight']).cumsum()\n",
    "        df['lorentz'] = df['cum_pos_found'] / total_pos\n",
    "        df['gini'] = (df['lorentz'] - df['random']) * df['weight']\n",
    "        return df['gini'].sum()\n",
    "\n",
    "    def normalized_weighted_gini(y_true: pd.DataFrame, y_pred: pd.DataFrame) -> float:\n",
    "        y_true_pred = y_true.rename(columns={'target': 'prediction'})\n",
    "        return weighted_gini(y_true, y_pred) / weighted_gini(y_true, y_true_pred)\n",
    "\n",
    "    g = normalized_weighted_gini(y_true, y_pred)\n",
    "    d = top_four_percent_captured(y_true, y_pred)\n",
    "\n",
    "    return 0.5 * (g + d)"
   ]
  },
  {
   "cell_type": "code",
   "execution_count": 7,
   "id": "3bd1be99",
   "metadata": {
    "execution": {
     "iopub.execute_input": "2022-08-23T02:51:18.402256Z",
     "iopub.status.busy": "2022-08-23T02:51:18.401852Z",
     "iopub.status.idle": "2022-08-23T02:51:20.858120Z",
     "shell.execute_reply": "2022-08-23T02:51:20.857249Z"
    },
    "papermill": {
     "duration": 2.463394,
     "end_time": "2022-08-23T02:51:20.860590",
     "exception": false,
     "start_time": "2022-08-23T02:51:18.397196",
     "status": "completed"
    },
    "tags": []
   },
   "outputs": [],
   "source": [
    "train_y = pd.DataFrame(train[\"target\"].to_pandas())\n",
    "train_x = train[features].to_pandas()"
   ]
  },
  {
   "cell_type": "markdown",
   "id": "c7dbd823",
   "metadata": {
    "papermill": {
     "duration": 0.004236,
     "end_time": "2022-08-23T02:51:20.869517",
     "exception": false,
     "start_time": "2022-08-23T02:51:20.865281",
     "status": "completed"
    },
    "tags": []
   },
   "source": [
    "# Model Training"
   ]
  },
  {
   "cell_type": "code",
   "execution_count": 8,
   "id": "d21fff3e",
   "metadata": {
    "execution": {
     "iopub.execute_input": "2022-08-23T02:51:20.878979Z",
     "iopub.status.busy": "2022-08-23T02:51:20.878664Z",
     "iopub.status.idle": "2022-08-23T02:51:20.883150Z",
     "shell.execute_reply": "2022-08-23T02:51:20.882389Z"
    },
    "papermill": {
     "duration": 0.010846,
     "end_time": "2022-08-23T02:51:20.884799",
     "exception": false,
     "start_time": "2022-08-23T02:51:20.873953",
     "status": "completed"
    },
    "tags": []
   },
   "outputs": [],
   "source": [
    "cat_features = [\n",
    "    \"B_30\",\n",
    "    \"B_38\",\n",
    "    \"D_114\",\n",
    "    \"D_116\",\n",
    "    \"D_117\",\n",
    "    \"D_120\",\n",
    "    \"D_126\",\n",
    "    \"D_63\",\n",
    "    \"D_64\",\n",
    "    \"D_66\",\n",
    "    \"D_68\"\n",
    "]\n",
    "cat_features = [f\"{cf}_last\" for cf in cat_features]\n",
    "cat_features = cat_features.remove('D_68_last')"
   ]
  },
  {
   "cell_type": "code",
   "execution_count": 9,
   "id": "70614308",
   "metadata": {
    "execution": {
     "iopub.execute_input": "2022-08-23T02:51:20.893680Z",
     "iopub.status.busy": "2022-08-23T02:51:20.893426Z",
     "iopub.status.idle": "2022-08-23T03:13:09.469036Z",
     "shell.execute_reply": "2022-08-23T03:13:09.468202Z"
    },
    "papermill": {
     "duration": 1308.582948,
     "end_time": "2022-08-23T03:13:09.471631",
     "exception": false,
     "start_time": "2022-08-23T02:51:20.888683",
     "status": "completed"
    },
    "tags": []
   },
   "outputs": [
    {
     "name": "stdout",
     "output_type": "stream",
     "text": [
      "******* Fold 0 ******* \n"
     ]
    },
    {
     "name": "stderr",
     "output_type": "stream",
     "text": [
      "Warning: less than 75% gpu memory available for training. Free: 11459.75 Total: 16280.875\n"
     ]
    },
    {
     "name": "stdout",
     "output_type": "stream",
     "text": [
      "Learning rate set to 0.016616\n",
      "0:\tlearn: 0.6723346\ttest: 0.6723945\tbest: 0.6723945 (0)\ttotal: 39.1ms\tremaining: 6m 31s\n",
      "100:\tlearn: 0.2571320\ttest: 0.2592921\tbest: 0.2592921 (100)\ttotal: 2.43s\tremaining: 3m 58s\n",
      "200:\tlearn: 0.2358722\ttest: 0.2388252\tbest: 0.2388252 (200)\ttotal: 4.83s\tremaining: 3m 55s\n",
      "300:\tlearn: 0.2296410\ttest: 0.2331811\tbest: 0.2331811 (300)\ttotal: 7.39s\tremaining: 3m 58s\n",
      "400:\tlearn: 0.2262711\ttest: 0.2302773\tbest: 0.2302773 (400)\ttotal: 9.67s\tremaining: 3m 51s\n",
      "500:\tlearn: 0.2239257\ttest: 0.2284083\tbest: 0.2284083 (500)\ttotal: 12s\tremaining: 3m 46s\n",
      "600:\tlearn: 0.2221616\ttest: 0.2270845\tbest: 0.2270845 (600)\ttotal: 14.2s\tremaining: 3m 42s\n",
      "700:\tlearn: 0.2207466\ttest: 0.2260942\tbest: 0.2260942 (700)\ttotal: 16.8s\tremaining: 3m 43s\n",
      "800:\tlearn: 0.2195188\ttest: 0.2252808\tbest: 0.2252808 (800)\ttotal: 19.1s\tremaining: 3m 39s\n",
      "900:\tlearn: 0.2184766\ttest: 0.2246527\tbest: 0.2246527 (900)\ttotal: 21.3s\tremaining: 3m 35s\n",
      "1000:\tlearn: 0.2175599\ttest: 0.2241616\tbest: 0.2241616 (1000)\ttotal: 23.5s\tremaining: 3m 31s\n",
      "1100:\tlearn: 0.2167135\ttest: 0.2237515\tbest: 0.2237515 (1100)\ttotal: 25.7s\tremaining: 3m 28s\n",
      "1200:\tlearn: 0.2159379\ttest: 0.2233816\tbest: 0.2233816 (1200)\ttotal: 28.4s\tremaining: 3m 27s\n",
      "1300:\tlearn: 0.2152487\ttest: 0.2230912\tbest: 0.2230912 (1300)\ttotal: 31.4s\tremaining: 3m 29s\n",
      "1400:\tlearn: 0.2146135\ttest: 0.2228544\tbest: 0.2228544 (1400)\ttotal: 33.5s\tremaining: 3m 25s\n",
      "1500:\tlearn: 0.2139753\ttest: 0.2226186\tbest: 0.2226186 (1500)\ttotal: 35.7s\tremaining: 3m 22s\n",
      "1600:\tlearn: 0.2133962\ttest: 0.2224204\tbest: 0.2224204 (1600)\ttotal: 38.1s\tremaining: 3m 19s\n",
      "1700:\tlearn: 0.2128538\ttest: 0.2222453\tbest: 0.2222449 (1698)\ttotal: 40.4s\tremaining: 3m 17s\n",
      "1800:\tlearn: 0.2122808\ttest: 0.2220586\tbest: 0.2220586 (1800)\ttotal: 42.6s\tremaining: 3m 13s\n",
      "1900:\tlearn: 0.2117632\ttest: 0.2219133\tbest: 0.2219133 (1900)\ttotal: 44.8s\tremaining: 3m 10s\n",
      "2000:\tlearn: 0.2112712\ttest: 0.2217728\tbest: 0.2217728 (2000)\ttotal: 46.9s\tremaining: 3m 7s\n",
      "2100:\tlearn: 0.2107755\ttest: 0.2216199\tbest: 0.2216199 (2100)\ttotal: 49.4s\tremaining: 3m 5s\n",
      "2200:\tlearn: 0.2102897\ttest: 0.2215005\tbest: 0.2215005 (2200)\ttotal: 51.7s\tremaining: 3m 3s\n",
      "2300:\tlearn: 0.2098228\ttest: 0.2213839\tbest: 0.2213839 (2300)\ttotal: 53.9s\tremaining: 3m\n",
      "2400:\tlearn: 0.2093391\ttest: 0.2212607\tbest: 0.2212598 (2399)\ttotal: 56s\tremaining: 2m 57s\n",
      "2500:\tlearn: 0.2088837\ttest: 0.2211617\tbest: 0.2211617 (2500)\ttotal: 58.3s\tremaining: 2m 54s\n",
      "2600:\tlearn: 0.2084383\ttest: 0.2210795\tbest: 0.2210795 (2600)\ttotal: 1m\tremaining: 2m 52s\n",
      "2700:\tlearn: 0.2080023\ttest: 0.2209873\tbest: 0.2209873 (2700)\ttotal: 1m 2s\tremaining: 2m 50s\n",
      "2800:\tlearn: 0.2075709\ttest: 0.2208919\tbest: 0.2208919 (2800)\ttotal: 1m 5s\tremaining: 2m 47s\n",
      "2900:\tlearn: 0.2071565\ttest: 0.2208122\tbest: 0.2208122 (2900)\ttotal: 1m 7s\tremaining: 2m 44s\n",
      "3000:\tlearn: 0.2067425\ttest: 0.2207242\tbest: 0.2207236 (2998)\ttotal: 1m 9s\tremaining: 2m 41s\n",
      "3100:\tlearn: 0.2063396\ttest: 0.2206432\tbest: 0.2206432 (3100)\ttotal: 1m 11s\tremaining: 2m 40s\n",
      "3200:\tlearn: 0.2059398\ttest: 0.2205846\tbest: 0.2205846 (3200)\ttotal: 1m 14s\tremaining: 2m 37s\n",
      "3300:\tlearn: 0.2055422\ttest: 0.2205226\tbest: 0.2205226 (3300)\ttotal: 1m 16s\tremaining: 2m 34s\n",
      "3400:\tlearn: 0.2051340\ttest: 0.2204647\tbest: 0.2204627 (3397)\ttotal: 1m 18s\tremaining: 2m 32s\n",
      "3500:\tlearn: 0.2047214\ttest: 0.2203940\tbest: 0.2203923 (3498)\ttotal: 1m 20s\tremaining: 2m 29s\n",
      "3600:\tlearn: 0.2043254\ttest: 0.2203440\tbest: 0.2203430 (3595)\ttotal: 1m 23s\tremaining: 2m 27s\n",
      "3700:\tlearn: 0.2039404\ttest: 0.2202714\tbest: 0.2202712 (3699)\ttotal: 1m 25s\tremaining: 2m 25s\n",
      "3800:\tlearn: 0.2035758\ttest: 0.2202331\tbest: 0.2202306 (3789)\ttotal: 1m 27s\tremaining: 2m 22s\n",
      "3900:\tlearn: 0.2031999\ttest: 0.2201834\tbest: 0.2201834 (3900)\ttotal: 1m 29s\tremaining: 2m 20s\n",
      "4000:\tlearn: 0.2028126\ttest: 0.2201304\tbest: 0.2201304 (4000)\ttotal: 1m 33s\tremaining: 2m 19s\n",
      "4100:\tlearn: 0.2024445\ttest: 0.2200675\tbest: 0.2200675 (4100)\ttotal: 1m 35s\tremaining: 2m 17s\n",
      "4200:\tlearn: 0.2020596\ttest: 0.2200102\tbest: 0.2200102 (4200)\ttotal: 1m 37s\tremaining: 2m 14s\n",
      "4300:\tlearn: 0.2016797\ttest: 0.2199553\tbest: 0.2199553 (4300)\ttotal: 1m 39s\tremaining: 2m 11s\n",
      "4400:\tlearn: 0.2013091\ttest: 0.2198952\tbest: 0.2198952 (4400)\ttotal: 1m 41s\tremaining: 2m 9s\n",
      "4500:\tlearn: 0.2009380\ttest: 0.2198473\tbest: 0.2198473 (4500)\ttotal: 1m 44s\tremaining: 2m 7s\n",
      "4600:\tlearn: 0.2005591\ttest: 0.2198046\tbest: 0.2198038 (4598)\ttotal: 1m 46s\tremaining: 2m 4s\n",
      "4700:\tlearn: 0.2001979\ttest: 0.2197631\tbest: 0.2197631 (4700)\ttotal: 1m 48s\tremaining: 2m 2s\n",
      "4800:\tlearn: 0.1998244\ttest: 0.2197151\tbest: 0.2197144 (4798)\ttotal: 1m 50s\tremaining: 1m 59s\n",
      "4900:\tlearn: 0.1994484\ttest: 0.2196690\tbest: 0.2196690 (4900)\ttotal: 1m 52s\tremaining: 1m 57s\n",
      "5000:\tlearn: 0.1990806\ttest: 0.2196229\tbest: 0.2196229 (5000)\ttotal: 1m 55s\tremaining: 1m 55s\n",
      "5100:\tlearn: 0.1987207\ttest: 0.2195771\tbest: 0.2195771 (5099)\ttotal: 1m 57s\tremaining: 1m 53s\n",
      "5200:\tlearn: 0.1983828\ttest: 0.2195439\tbest: 0.2195439 (5198)\ttotal: 1m 59s\tremaining: 1m 50s\n",
      "5300:\tlearn: 0.1980268\ttest: 0.2195099\tbest: 0.2195099 (5299)\ttotal: 2m 1s\tremaining: 1m 48s\n",
      "5400:\tlearn: 0.1976713\ttest: 0.2194876\tbest: 0.2194876 (5400)\ttotal: 2m 4s\tremaining: 1m 45s\n",
      "5500:\tlearn: 0.1973321\ttest: 0.2194421\tbest: 0.2194421 (5500)\ttotal: 2m 6s\tremaining: 1m 43s\n",
      "5600:\tlearn: 0.1969809\ttest: 0.2194093\tbest: 0.2194092 (5599)\ttotal: 2m 8s\tremaining: 1m 41s\n",
      "5700:\tlearn: 0.1966345\ttest: 0.2193718\tbest: 0.2193712 (5693)\ttotal: 2m 10s\tremaining: 1m 38s\n",
      "5800:\tlearn: 0.1963072\ttest: 0.2193506\tbest: 0.2193502 (5796)\ttotal: 2m 13s\tremaining: 1m 36s\n",
      "5900:\tlearn: 0.1959761\ttest: 0.2193071\tbest: 0.2193069 (5899)\ttotal: 2m 15s\tremaining: 1m 33s\n",
      "6000:\tlearn: 0.1956510\ttest: 0.2192691\tbest: 0.2192691 (6000)\ttotal: 2m 17s\tremaining: 1m 31s\n",
      "6100:\tlearn: 0.1953268\ttest: 0.2192419\tbest: 0.2192419 (6100)\ttotal: 2m 19s\tremaining: 1m 29s\n",
      "6200:\tlearn: 0.1949900\ttest: 0.2191925\tbest: 0.2191925 (6200)\ttotal: 2m 22s\tremaining: 1m 27s\n",
      "6300:\tlearn: 0.1946590\ttest: 0.2191566\tbest: 0.2191548 (6297)\ttotal: 2m 24s\tremaining: 1m 24s\n",
      "6400:\tlearn: 0.1943308\ttest: 0.2191355\tbest: 0.2191336 (6386)\ttotal: 2m 26s\tremaining: 1m 22s\n",
      "6500:\tlearn: 0.1939928\ttest: 0.2190973\tbest: 0.2190973 (6500)\ttotal: 2m 28s\tremaining: 1m 20s\n",
      "6600:\tlearn: 0.1936555\ttest: 0.2190678\tbest: 0.2190637 (6584)\ttotal: 2m 31s\tremaining: 1m 17s\n",
      "6700:\tlearn: 0.1933303\ttest: 0.2190503\tbest: 0.2190497 (6698)\ttotal: 2m 33s\tremaining: 1m 15s\n",
      "6800:\tlearn: 0.1930182\ttest: 0.2190346\tbest: 0.2190341 (6795)\ttotal: 2m 36s\tremaining: 1m 13s\n",
      "6900:\tlearn: 0.1926801\ttest: 0.2189927\tbest: 0.2189905 (6898)\ttotal: 2m 38s\tremaining: 1m 11s\n",
      "7000:\tlearn: 0.1923502\ttest: 0.2189816\tbest: 0.2189809 (6999)\ttotal: 2m 40s\tremaining: 1m 8s\n",
      "7100:\tlearn: 0.1920202\ttest: 0.2189395\tbest: 0.2189395 (7100)\ttotal: 2m 42s\tremaining: 1m 6s\n",
      "7200:\tlearn: 0.1917113\ttest: 0.2189218\tbest: 0.2189194 (7178)\ttotal: 2m 44s\tremaining: 1m 4s\n",
      "7300:\tlearn: 0.1913998\ttest: 0.2189000\tbest: 0.2188974 (7279)\ttotal: 2m 47s\tremaining: 1m 1s\n",
      "7400:\tlearn: 0.1910829\ttest: 0.2188884\tbest: 0.2188867 (7391)\ttotal: 2m 49s\tremaining: 59.4s\n",
      "7500:\tlearn: 0.1907631\ttest: 0.2188698\tbest: 0.2188683 (7495)\ttotal: 2m 51s\tremaining: 57.2s\n",
      "7600:\tlearn: 0.1904526\ttest: 0.2188518\tbest: 0.2188515 (7599)\ttotal: 2m 53s\tremaining: 54.9s\n",
      "7700:\tlearn: 0.1901375\ttest: 0.2188461\tbest: 0.2188435 (7632)\ttotal: 2m 56s\tremaining: 52.6s\n",
      "7800:\tlearn: 0.1898236\ttest: 0.2188262\tbest: 0.2188244 (7796)\ttotal: 2m 58s\tremaining: 50.2s\n",
      "7900:\tlearn: 0.1895142\ttest: 0.2188093\tbest: 0.2188047 (7892)\ttotal: 3m\tremaining: 48s\n",
      "8000:\tlearn: 0.1892182\ttest: 0.2187944\tbest: 0.2187944 (8000)\ttotal: 3m 3s\tremaining: 45.7s\n",
      "8100:\tlearn: 0.1889138\ttest: 0.2187674\tbest: 0.2187674 (8100)\ttotal: 3m 5s\tremaining: 43.4s\n",
      "8200:\tlearn: 0.1886124\ttest: 0.2187422\tbest: 0.2187407 (8191)\ttotal: 3m 7s\tremaining: 41.1s\n",
      "8300:\tlearn: 0.1883003\ttest: 0.2187142\tbest: 0.2187142 (8300)\ttotal: 3m 9s\tremaining: 38.8s\n",
      "8400:\tlearn: 0.1879924\ttest: 0.2186913\tbest: 0.2186913 (8400)\ttotal: 3m 12s\tremaining: 36.5s\n",
      "8500:\tlearn: 0.1876803\ttest: 0.2186685\tbest: 0.2186685 (8500)\ttotal: 3m 14s\tremaining: 34.2s\n",
      "8600:\tlearn: 0.1873764\ttest: 0.2186487\tbest: 0.2186475 (8598)\ttotal: 3m 16s\tremaining: 31.9s\n",
      "8700:\tlearn: 0.1870884\ttest: 0.2186252\tbest: 0.2186244 (8697)\ttotal: 3m 18s\tremaining: 29.6s\n",
      "8800:\tlearn: 0.1867854\ttest: 0.2185940\tbest: 0.2185940 (8800)\ttotal: 3m 20s\tremaining: 27.3s\n",
      "8900:\tlearn: 0.1864680\ttest: 0.2185861\tbest: 0.2185861 (8900)\ttotal: 3m 23s\tremaining: 25.1s\n",
      "9000:\tlearn: 0.1861666\ttest: 0.2185667\tbest: 0.2185664 (8997)\ttotal: 3m 25s\tremaining: 22.8s\n",
      "9100:\tlearn: 0.1858809\ttest: 0.2185500\tbest: 0.2185490 (9080)\ttotal: 3m 27s\tremaining: 20.5s\n",
      "9200:\tlearn: 0.1855910\ttest: 0.2185352\tbest: 0.2185352 (9200)\ttotal: 3m 29s\tremaining: 18.2s\n",
      "9300:\tlearn: 0.1852946\ttest: 0.2185087\tbest: 0.2185079 (9298)\ttotal: 3m 31s\tremaining: 15.9s\n",
      "9400:\tlearn: 0.1849783\ttest: 0.2184950\tbest: 0.2184950 (9400)\ttotal: 3m 34s\tremaining: 13.7s\n",
      "9500:\tlearn: 0.1846721\ttest: 0.2184875\tbest: 0.2184875 (9500)\ttotal: 3m 37s\tremaining: 11.4s\n",
      "9600:\tlearn: 0.1843773\ttest: 0.2184919\tbest: 0.2184854 (9503)\ttotal: 3m 39s\tremaining: 9.1s\n",
      "9700:\tlearn: 0.1840740\ttest: 0.2184797\tbest: 0.2184797 (9700)\ttotal: 3m 41s\tremaining: 6.81s\n",
      "9800:\tlearn: 0.1837945\ttest: 0.2184610\tbest: 0.2184610 (9800)\ttotal: 3m 43s\tremaining: 4.52s\n",
      "9900:\tlearn: 0.1834901\ttest: 0.2184553\tbest: 0.2184494 (9864)\ttotal: 3m 46s\tremaining: 2.24s\n",
      "9998:\tlearn: 0.1832025\ttest: 0.2184428\tbest: 0.2184412 (9991)\ttotal: 3m 48s\tremaining: 0us\n",
      "bestTest = 0.2184411661\n",
      "bestIteration = 9991\n",
      "Shrink model to first 9992 iterations.\n",
      "******* Fold 1 ******* \n"
     ]
    },
    {
     "name": "stderr",
     "output_type": "stream",
     "text": [
      "Warning: less than 75% gpu memory available for training. Free: 11455.75 Total: 16280.875\n"
     ]
    },
    {
     "name": "stdout",
     "output_type": "stream",
     "text": [
      "Learning rate set to 0.016616\n",
      "0:\tlearn: 0.6723003\ttest: 0.6722925\tbest: 0.6722925 (0)\ttotal: 25.5ms\tremaining: 4m 15s\n",
      "100:\tlearn: 0.2579035\ttest: 0.2568929\tbest: 0.2568929 (100)\ttotal: 2.57s\tremaining: 4m 12s\n",
      "200:\tlearn: 0.2368730\ttest: 0.2362659\tbest: 0.2362659 (200)\ttotal: 5.06s\tremaining: 4m 6s\n",
      "300:\tlearn: 0.2305542\ttest: 0.2303648\tbest: 0.2303648 (300)\ttotal: 7.34s\tremaining: 3m 56s\n",
      "400:\tlearn: 0.2270700\ttest: 0.2272343\tbest: 0.2272343 (400)\ttotal: 9.59s\tremaining: 3m 49s\n",
      "500:\tlearn: 0.2247595\ttest: 0.2252921\tbest: 0.2252921 (500)\ttotal: 11.8s\tremaining: 3m 44s\n",
      "600:\tlearn: 0.2230414\ttest: 0.2239491\tbest: 0.2239491 (600)\ttotal: 14.4s\tremaining: 3m 45s\n",
      "700:\tlearn: 0.2216244\ttest: 0.2229138\tbest: 0.2229138 (700)\ttotal: 16.6s\tremaining: 3m 40s\n",
      "800:\tlearn: 0.2204110\ttest: 0.2221094\tbest: 0.2221094 (800)\ttotal: 18.8s\tremaining: 3m 36s\n",
      "900:\tlearn: 0.2193387\ttest: 0.2214253\tbest: 0.2214253 (900)\ttotal: 21s\tremaining: 3m 32s\n",
      "1000:\tlearn: 0.2184323\ttest: 0.2209182\tbest: 0.2209182 (1000)\ttotal: 23.3s\tremaining: 3m 29s\n",
      "1100:\tlearn: 0.2175971\ttest: 0.2204699\tbest: 0.2204699 (1100)\ttotal: 25.8s\tremaining: 3m 28s\n",
      "1200:\tlearn: 0.2168360\ttest: 0.2200930\tbest: 0.2200930 (1200)\ttotal: 28s\tremaining: 3m 25s\n",
      "1300:\tlearn: 0.2161398\ttest: 0.2197615\tbest: 0.2197615 (1300)\ttotal: 30.1s\tremaining: 3m 21s\n",
      "1400:\tlearn: 0.2154679\ttest: 0.2194635\tbest: 0.2194635 (1400)\ttotal: 33.1s\tremaining: 3m 23s\n",
      "1500:\tlearn: 0.2148392\ttest: 0.2192035\tbest: 0.2192035 (1500)\ttotal: 35.6s\tremaining: 3m 21s\n",
      "1600:\tlearn: 0.2142438\ttest: 0.2189858\tbest: 0.2189858 (1600)\ttotal: 37.9s\tremaining: 3m 18s\n",
      "1700:\tlearn: 0.2136785\ttest: 0.2187954\tbest: 0.2187954 (1700)\ttotal: 40.1s\tremaining: 3m 15s\n",
      "1800:\tlearn: 0.2131108\ttest: 0.2186009\tbest: 0.2186009 (1800)\ttotal: 42.3s\tremaining: 3m 12s\n",
      "1900:\tlearn: 0.2125803\ttest: 0.2184340\tbest: 0.2184340 (1900)\ttotal: 44.4s\tremaining: 3m 9s\n",
      "2000:\tlearn: 0.2120431\ttest: 0.2182505\tbest: 0.2182505 (2000)\ttotal: 47s\tremaining: 3m 7s\n",
      "2100:\tlearn: 0.2115503\ttest: 0.2180992\tbest: 0.2180992 (2100)\ttotal: 49.2s\tremaining: 3m 4s\n",
      "2200:\tlearn: 0.2110639\ttest: 0.2179623\tbest: 0.2179623 (2200)\ttotal: 51.4s\tremaining: 3m 2s\n",
      "2300:\tlearn: 0.2105730\ttest: 0.2178267\tbest: 0.2178267 (2300)\ttotal: 53.6s\tremaining: 2m 59s\n",
      "2400:\tlearn: 0.2101205\ttest: 0.2177111\tbest: 0.2177111 (2400)\ttotal: 55.8s\tremaining: 2m 56s\n",
      "2500:\tlearn: 0.2096610\ttest: 0.2175706\tbest: 0.2175706 (2500)\ttotal: 58.4s\tremaining: 2m 55s\n",
      "2600:\tlearn: 0.2091995\ttest: 0.2174453\tbest: 0.2174448 (2598)\ttotal: 1m\tremaining: 2m 52s\n",
      "2700:\tlearn: 0.2087500\ttest: 0.2173499\tbest: 0.2173499 (2700)\ttotal: 1m 2s\tremaining: 2m 49s\n",
      "2800:\tlearn: 0.2083260\ttest: 0.2172519\tbest: 0.2172519 (2800)\ttotal: 1m 4s\tremaining: 2m 46s\n",
      "2900:\tlearn: 0.2079043\ttest: 0.2171569\tbest: 0.2171568 (2899)\ttotal: 1m 7s\tremaining: 2m 44s\n",
      "3000:\tlearn: 0.2074861\ttest: 0.2170640\tbest: 0.2170640 (3000)\ttotal: 1m 9s\tremaining: 2m 42s\n",
      "3100:\tlearn: 0.2070797\ttest: 0.2169830\tbest: 0.2169830 (3100)\ttotal: 1m 11s\tremaining: 2m 39s\n",
      "3200:\tlearn: 0.2066565\ttest: 0.2169097\tbest: 0.2169081 (3195)\ttotal: 1m 13s\tremaining: 2m 36s\n",
      "3300:\tlearn: 0.2062474\ttest: 0.2168352\tbest: 0.2168352 (3300)\ttotal: 1m 16s\tremaining: 2m 34s\n",
      "3400:\tlearn: 0.2058473\ttest: 0.2167525\tbest: 0.2167525 (3400)\ttotal: 1m 18s\tremaining: 2m 31s\n",
      "3500:\tlearn: 0.2054554\ttest: 0.2166902\tbest: 0.2166902 (3500)\ttotal: 1m 20s\tremaining: 2m 29s\n",
      "3600:\tlearn: 0.2050585\ttest: 0.2166087\tbest: 0.2166083 (3599)\ttotal: 1m 22s\tremaining: 2m 27s\n",
      "3700:\tlearn: 0.2046769\ttest: 0.2165305\tbest: 0.2165305 (3699)\ttotal: 1m 24s\tremaining: 2m 24s\n",
      "3800:\tlearn: 0.2042771\ttest: 0.2164562\tbest: 0.2164562 (3800)\ttotal: 1m 27s\tremaining: 2m 21s\n",
      "3900:\tlearn: 0.2038974\ttest: 0.2163986\tbest: 0.2163986 (3900)\ttotal: 1m 29s\tremaining: 2m 19s\n",
      "4000:\tlearn: 0.2035171\ttest: 0.2163302\tbest: 0.2163300 (3998)\ttotal: 1m 31s\tremaining: 2m 17s\n",
      "4100:\tlearn: 0.2031318\ttest: 0.2162679\tbest: 0.2162679 (4100)\ttotal: 1m 34s\tremaining: 2m 15s\n",
      "4200:\tlearn: 0.2027438\ttest: 0.2161983\tbest: 0.2161983 (4200)\ttotal: 1m 36s\tremaining: 2m 13s\n",
      "4300:\tlearn: 0.2023737\ttest: 0.2161544\tbest: 0.2161535 (4298)\ttotal: 1m 38s\tremaining: 2m 10s\n",
      "4400:\tlearn: 0.2019994\ttest: 0.2161213\tbest: 0.2161213 (4400)\ttotal: 1m 40s\tremaining: 2m 8s\n",
      "4500:\tlearn: 0.2016154\ttest: 0.2160648\tbest: 0.2160645 (4498)\ttotal: 1m 43s\tremaining: 2m 6s\n",
      "4600:\tlearn: 0.2012500\ttest: 0.2160080\tbest: 0.2160080 (4600)\ttotal: 1m 45s\tremaining: 2m 3s\n",
      "4700:\tlearn: 0.2008887\ttest: 0.2159541\tbest: 0.2159533 (4699)\ttotal: 1m 47s\tremaining: 2m 1s\n",
      "4800:\tlearn: 0.2005189\ttest: 0.2159134\tbest: 0.2159134 (4800)\ttotal: 1m 49s\tremaining: 1m 58s\n",
      "4900:\tlearn: 0.2001660\ttest: 0.2158849\tbest: 0.2158819 (4889)\ttotal: 1m 52s\tremaining: 1m 56s\n",
      "5000:\tlearn: 0.1998028\ttest: 0.2158335\tbest: 0.2158331 (4998)\ttotal: 1m 54s\tremaining: 1m 54s\n",
      "5100:\tlearn: 0.1994587\ttest: 0.2157853\tbest: 0.2157843 (5099)\ttotal: 1m 56s\tremaining: 1m 51s\n",
      "5200:\tlearn: 0.1991040\ttest: 0.2157530\tbest: 0.2157530 (5195)\ttotal: 1m 58s\tremaining: 1m 49s\n",
      "5300:\tlearn: 0.1987593\ttest: 0.2157127\tbest: 0.2157127 (5300)\ttotal: 2m\tremaining: 1m 47s\n",
      "5400:\tlearn: 0.1984264\ttest: 0.2156850\tbest: 0.2156842 (5395)\ttotal: 2m 3s\tremaining: 1m 44s\n",
      "5500:\tlearn: 0.1980719\ttest: 0.2156360\tbest: 0.2156360 (5500)\ttotal: 2m 5s\tremaining: 1m 42s\n",
      "5600:\tlearn: 0.1977215\ttest: 0.2155897\tbest: 0.2155893 (5596)\ttotal: 2m 7s\tremaining: 1m 40s\n",
      "5700:\tlearn: 0.1973822\ttest: 0.2155473\tbest: 0.2155473 (5700)\ttotal: 2m 9s\tremaining: 1m 37s\n",
      "5800:\tlearn: 0.1970321\ttest: 0.2155061\tbest: 0.2155053 (5786)\ttotal: 2m 12s\tremaining: 1m 35s\n",
      "5900:\tlearn: 0.1966809\ttest: 0.2154694\tbest: 0.2154694 (5900)\ttotal: 2m 14s\tremaining: 1m 33s\n",
      "6000:\tlearn: 0.1963431\ttest: 0.2154160\tbest: 0.2154160 (6000)\ttotal: 2m 16s\tremaining: 1m 31s\n",
      "6100:\tlearn: 0.1960183\ttest: 0.2153821\tbest: 0.2153821 (6100)\ttotal: 2m 18s\tremaining: 1m 28s\n",
      "6200:\tlearn: 0.1956895\ttest: 0.2153475\tbest: 0.2153475 (6200)\ttotal: 2m 21s\tremaining: 1m 26s\n",
      "6300:\tlearn: 0.1953439\ttest: 0.2153132\tbest: 0.2153132 (6300)\ttotal: 2m 23s\tremaining: 1m 24s\n",
      "6400:\tlearn: 0.1950190\ttest: 0.2152588\tbest: 0.2152578 (6399)\ttotal: 2m 25s\tremaining: 1m 21s\n",
      "6500:\tlearn: 0.1946808\ttest: 0.2152220\tbest: 0.2152219 (6499)\ttotal: 2m 27s\tremaining: 1m 19s\n",
      "6600:\tlearn: 0.1943495\ttest: 0.2151947\tbest: 0.2151940 (6584)\ttotal: 2m 30s\tremaining: 1m 17s\n",
      "6700:\tlearn: 0.1940031\ttest: 0.2151645\tbest: 0.2151639 (6699)\ttotal: 2m 32s\tremaining: 1m 14s\n",
      "6800:\tlearn: 0.1936789\ttest: 0.2151436\tbest: 0.2151436 (6800)\ttotal: 2m 34s\tremaining: 1m 12s\n",
      "6900:\tlearn: 0.1933477\ttest: 0.2151164\tbest: 0.2151158 (6899)\ttotal: 2m 37s\tremaining: 1m 10s\n",
      "7000:\tlearn: 0.1930228\ttest: 0.2151002\tbest: 0.2151002 (7000)\ttotal: 2m 39s\tremaining: 1m 8s\n",
      "7100:\tlearn: 0.1927191\ttest: 0.2150627\tbest: 0.2150613 (7098)\ttotal: 2m 41s\tremaining: 1m 6s\n",
      "7200:\tlearn: 0.1924202\ttest: 0.2150413\tbest: 0.2150400 (7198)\ttotal: 2m 44s\tremaining: 1m 3s\n",
      "7300:\tlearn: 0.1921022\ttest: 0.2150156\tbest: 0.2150138 (7292)\ttotal: 2m 46s\tremaining: 1m 1s\n",
      "7400:\tlearn: 0.1917918\ttest: 0.2149950\tbest: 0.2149945 (7397)\ttotal: 2m 48s\tremaining: 59.2s\n",
      "7500:\tlearn: 0.1914638\ttest: 0.2149563\tbest: 0.2149551 (7498)\ttotal: 2m 50s\tremaining: 56.9s\n",
      "7600:\tlearn: 0.1911541\ttest: 0.2149278\tbest: 0.2149278 (7600)\ttotal: 2m 53s\tremaining: 54.6s\n",
      "7700:\tlearn: 0.1908518\ttest: 0.2148944\tbest: 0.2148932 (7690)\ttotal: 2m 55s\tremaining: 52.3s\n",
      "7800:\tlearn: 0.1905600\ttest: 0.2148700\tbest: 0.2148700 (7800)\ttotal: 2m 57s\tremaining: 50s\n",
      "7900:\tlearn: 0.1902449\ttest: 0.2148569\tbest: 0.2148569 (7900)\ttotal: 2m 59s\tremaining: 47.8s\n",
      "8000:\tlearn: 0.1899474\ttest: 0.2148304\tbest: 0.2148304 (8000)\ttotal: 3m 1s\tremaining: 45.4s\n",
      "8100:\tlearn: 0.1896549\ttest: 0.2148055\tbest: 0.2148023 (8095)\ttotal: 3m 4s\tremaining: 43.1s\n",
      "8200:\tlearn: 0.1893455\ttest: 0.2147730\tbest: 0.2147730 (8200)\ttotal: 3m 6s\tremaining: 40.8s\n",
      "8300:\tlearn: 0.1890413\ttest: 0.2147509\tbest: 0.2147483 (8285)\ttotal: 3m 8s\tremaining: 38.5s\n",
      "8400:\tlearn: 0.1887326\ttest: 0.2147300\tbest: 0.2147292 (8391)\ttotal: 3m 10s\tremaining: 36.3s\n",
      "8500:\tlearn: 0.1884331\ttest: 0.2147025\tbest: 0.2147025 (8500)\ttotal: 3m 13s\tremaining: 34s\n",
      "8600:\tlearn: 0.1881309\ttest: 0.2146917\tbest: 0.2146917 (8600)\ttotal: 3m 15s\tremaining: 31.7s\n",
      "8700:\tlearn: 0.1878348\ttest: 0.2146588\tbest: 0.2146587 (8696)\ttotal: 3m 17s\tremaining: 29.4s\n",
      "8800:\tlearn: 0.1875287\ttest: 0.2146338\tbest: 0.2146338 (8800)\ttotal: 3m 19s\tremaining: 27.2s\n",
      "8900:\tlearn: 0.1872249\ttest: 0.2146105\tbest: 0.2146105 (8900)\ttotal: 3m 22s\tremaining: 24.9s\n",
      "9000:\tlearn: 0.1869211\ttest: 0.2145934\tbest: 0.2145934 (9000)\ttotal: 3m 24s\tremaining: 22.6s\n",
      "9100:\tlearn: 0.1866226\ttest: 0.2145712\tbest: 0.2145710 (9099)\ttotal: 3m 26s\tremaining: 20.4s\n",
      "9200:\tlearn: 0.1863401\ttest: 0.2145591\tbest: 0.2145579 (9164)\ttotal: 3m 28s\tremaining: 18.1s\n",
      "9300:\tlearn: 0.1860424\ttest: 0.2145375\tbest: 0.2145351 (9282)\ttotal: 3m 30s\tremaining: 15.8s\n",
      "9400:\tlearn: 0.1857448\ttest: 0.2145071\tbest: 0.2145071 (9400)\ttotal: 3m 33s\tremaining: 13.6s\n",
      "9500:\tlearn: 0.1854629\ttest: 0.2144951\tbest: 0.2144906 (9463)\ttotal: 3m 35s\tremaining: 11.3s\n",
      "9600:\tlearn: 0.1851742\ttest: 0.2144775\tbest: 0.2144754 (9594)\ttotal: 3m 38s\tremaining: 9.05s\n",
      "9700:\tlearn: 0.1848874\ttest: 0.2144737\tbest: 0.2144705 (9664)\ttotal: 3m 40s\tremaining: 6.77s\n",
      "9800:\tlearn: 0.1846035\ttest: 0.2144594\tbest: 0.2144588 (9798)\ttotal: 3m 42s\tremaining: 4.5s\n",
      "9900:\tlearn: 0.1843061\ttest: 0.2144464\tbest: 0.2144447 (9896)\ttotal: 3m 45s\tremaining: 2.23s\n",
      "9998:\tlearn: 0.1840145\ttest: 0.2144309\tbest: 0.2144290 (9993)\ttotal: 3m 47s\tremaining: 0us\n",
      "bestTest = 0.214429049\n",
      "bestIteration = 9993\n",
      "Shrink model to first 9994 iterations.\n",
      "******* Fold 2 ******* \n"
     ]
    },
    {
     "name": "stderr",
     "output_type": "stream",
     "text": [
      "Warning: less than 75% gpu memory available for training. Free: 11451.75 Total: 16280.875\n"
     ]
    },
    {
     "name": "stdout",
     "output_type": "stream",
     "text": [
      "Learning rate set to 0.016616\n",
      "0:\tlearn: 0.6723199\ttest: 0.6723011\tbest: 0.6723011 (0)\ttotal: 25.5ms\tremaining: 4m 14s\n",
      "100:\tlearn: 0.2574919\ttest: 0.2588925\tbest: 0.2588925 (100)\ttotal: 2.75s\tremaining: 4m 29s\n",
      "200:\tlearn: 0.2362985\ttest: 0.2383707\tbest: 0.2383707 (200)\ttotal: 5.08s\tremaining: 4m 7s\n",
      "300:\tlearn: 0.2299593\ttest: 0.2326001\tbest: 0.2326001 (300)\ttotal: 7.35s\tremaining: 3m 56s\n",
      "400:\tlearn: 0.2264917\ttest: 0.2296629\tbest: 0.2296629 (400)\ttotal: 9.64s\tremaining: 3m 50s\n",
      "500:\tlearn: 0.2241372\ttest: 0.2277686\tbest: 0.2277686 (500)\ttotal: 11.9s\tremaining: 3m 46s\n",
      "600:\tlearn: 0.2223772\ttest: 0.2264369\tbest: 0.2264369 (600)\ttotal: 14.5s\tremaining: 3m 46s\n",
      "700:\tlearn: 0.2209605\ttest: 0.2254813\tbest: 0.2254813 (700)\ttotal: 16.8s\tremaining: 3m 42s\n",
      "800:\tlearn: 0.2197428\ttest: 0.2246840\tbest: 0.2246840 (800)\ttotal: 19s\tremaining: 3m 38s\n",
      "900:\tlearn: 0.2186639\ttest: 0.2240280\tbest: 0.2240280 (900)\ttotal: 21.3s\tremaining: 3m 35s\n",
      "1000:\tlearn: 0.2176979\ttest: 0.2234974\tbest: 0.2234974 (1000)\ttotal: 23.8s\tremaining: 3m 34s\n",
      "1100:\tlearn: 0.2168342\ttest: 0.2230464\tbest: 0.2230464 (1100)\ttotal: 26.2s\tremaining: 3m 31s\n",
      "1200:\tlearn: 0.2160701\ttest: 0.2227022\tbest: 0.2227022 (1200)\ttotal: 28.4s\tremaining: 3m 28s\n",
      "1300:\tlearn: 0.2153713\ttest: 0.2224175\tbest: 0.2224175 (1300)\ttotal: 30.7s\tremaining: 3m 25s\n",
      "1400:\tlearn: 0.2147093\ttest: 0.2221591\tbest: 0.2221591 (1400)\ttotal: 32.9s\tremaining: 3m 21s\n",
      "1500:\tlearn: 0.2140868\ttest: 0.2219224\tbest: 0.2219224 (1500)\ttotal: 35.4s\tremaining: 3m 20s\n",
      "1600:\tlearn: 0.2134811\ttest: 0.2217114\tbest: 0.2217114 (1600)\ttotal: 38.3s\tremaining: 3m 20s\n",
      "1700:\tlearn: 0.2129367\ttest: 0.2215232\tbest: 0.2215232 (1700)\ttotal: 40.5s\tremaining: 3m 17s\n",
      "1800:\tlearn: 0.2124012\ttest: 0.2213599\tbest: 0.2213599 (1800)\ttotal: 42.6s\tremaining: 3m 14s\n",
      "1900:\tlearn: 0.2118662\ttest: 0.2211978\tbest: 0.2211978 (1900)\ttotal: 44.9s\tremaining: 3m 11s\n",
      "2000:\tlearn: 0.2113471\ttest: 0.2210622\tbest: 0.2210622 (2000)\ttotal: 47.4s\tremaining: 3m 9s\n",
      "2100:\tlearn: 0.2108595\ttest: 0.2209120\tbest: 0.2209120 (2100)\ttotal: 49.8s\tremaining: 3m 7s\n",
      "2200:\tlearn: 0.2103794\ttest: 0.2207707\tbest: 0.2207707 (2200)\ttotal: 52.1s\tremaining: 3m 4s\n",
      "2300:\tlearn: 0.2099221\ttest: 0.2206515\tbest: 0.2206514 (2299)\ttotal: 54.3s\tremaining: 3m 1s\n",
      "2400:\tlearn: 0.2094874\ttest: 0.2205478\tbest: 0.2205478 (2400)\ttotal: 56.8s\tremaining: 2m 59s\n",
      "2500:\tlearn: 0.2090298\ttest: 0.2204279\tbest: 0.2204279 (2500)\ttotal: 59s\tremaining: 2m 56s\n",
      "2600:\tlearn: 0.2085812\ttest: 0.2203168\tbest: 0.2203168 (2600)\ttotal: 1m 1s\tremaining: 2m 54s\n",
      "2700:\tlearn: 0.2081503\ttest: 0.2202261\tbest: 0.2202221 (2698)\ttotal: 1m 3s\tremaining: 2m 51s\n",
      "2800:\tlearn: 0.2076894\ttest: 0.2201231\tbest: 0.2201231 (2800)\ttotal: 1m 5s\tremaining: 2m 48s\n",
      "2900:\tlearn: 0.2072475\ttest: 0.2200282\tbest: 0.2200282 (2900)\ttotal: 1m 8s\tremaining: 2m 47s\n",
      "3000:\tlearn: 0.2068349\ttest: 0.2199396\tbest: 0.2199370 (2994)\ttotal: 1m 10s\tremaining: 2m 44s\n",
      "3100:\tlearn: 0.2064070\ttest: 0.2198708\tbest: 0.2198708 (3100)\ttotal: 1m 12s\tremaining: 2m 41s\n",
      "3200:\tlearn: 0.2059946\ttest: 0.2197958\tbest: 0.2197958 (3200)\ttotal: 1m 14s\tremaining: 2m 38s\n",
      "3300:\tlearn: 0.2056024\ttest: 0.2197200\tbest: 0.2197200 (3300)\ttotal: 1m 17s\tremaining: 2m 36s\n",
      "3400:\tlearn: 0.2052137\ttest: 0.2196502\tbest: 0.2196501 (3396)\ttotal: 1m 19s\tremaining: 2m 34s\n",
      "3500:\tlearn: 0.2048208\ttest: 0.2195800\tbest: 0.2195800 (3500)\ttotal: 1m 21s\tremaining: 2m 31s\n",
      "3600:\tlearn: 0.2044344\ttest: 0.2195142\tbest: 0.2195140 (3599)\ttotal: 1m 24s\tremaining: 2m 29s\n",
      "3700:\tlearn: 0.2040421\ttest: 0.2194648\tbest: 0.2194648 (3700)\ttotal: 1m 26s\tremaining: 2m 26s\n",
      "3800:\tlearn: 0.2036769\ttest: 0.2194033\tbest: 0.2194033 (3800)\ttotal: 1m 28s\tremaining: 2m 24s\n",
      "3900:\tlearn: 0.2032757\ttest: 0.2193448\tbest: 0.2193448 (3900)\ttotal: 1m 31s\tremaining: 2m 22s\n",
      "4000:\tlearn: 0.2028844\ttest: 0.2192951\tbest: 0.2192936 (3997)\ttotal: 1m 33s\tremaining: 2m 19s\n",
      "4100:\tlearn: 0.2025154\ttest: 0.2192435\tbest: 0.2192435 (4100)\ttotal: 1m 35s\tremaining: 2m 17s\n",
      "4200:\tlearn: 0.2021537\ttest: 0.2191972\tbest: 0.2191947 (4198)\ttotal: 1m 38s\tremaining: 2m 15s\n",
      "4300:\tlearn: 0.2017817\ttest: 0.2191445\tbest: 0.2191445 (4300)\ttotal: 1m 40s\tremaining: 2m 13s\n",
      "4400:\tlearn: 0.2013999\ttest: 0.2190955\tbest: 0.2190945 (4399)\ttotal: 1m 43s\tremaining: 2m 11s\n",
      "4500:\tlearn: 0.2010388\ttest: 0.2190420\tbest: 0.2190420 (4500)\ttotal: 1m 45s\tremaining: 2m 8s\n",
      "4600:\tlearn: 0.2006631\ttest: 0.2189972\tbest: 0.2189972 (4600)\ttotal: 1m 47s\tremaining: 2m 6s\n",
      "4700:\tlearn: 0.2002731\ttest: 0.2189458\tbest: 0.2189448 (4698)\ttotal: 1m 49s\tremaining: 2m 3s\n",
      "4800:\tlearn: 0.1999098\ttest: 0.2188984\tbest: 0.2188981 (4799)\ttotal: 1m 52s\tremaining: 2m 1s\n",
      "4900:\tlearn: 0.1995517\ttest: 0.2188546\tbest: 0.2188546 (4900)\ttotal: 1m 54s\tremaining: 1m 59s\n",
      "5000:\tlearn: 0.1992032\ttest: 0.2188185\tbest: 0.2188181 (4998)\ttotal: 1m 56s\tremaining: 1m 56s\n",
      "5100:\tlearn: 0.1988562\ttest: 0.2187710\tbest: 0.2187710 (5100)\ttotal: 1m 58s\tremaining: 1m 54s\n",
      "5200:\tlearn: 0.1984997\ttest: 0.2187369\tbest: 0.2187369 (5200)\ttotal: 2m 1s\tremaining: 1m 51s\n",
      "5300:\tlearn: 0.1981664\ttest: 0.2187040\tbest: 0.2187040 (5300)\ttotal: 2m 3s\tremaining: 1m 49s\n",
      "5400:\tlearn: 0.1978269\ttest: 0.2186653\tbest: 0.2186653 (5400)\ttotal: 2m 5s\tremaining: 1m 47s\n",
      "5500:\tlearn: 0.1974824\ttest: 0.2186285\tbest: 0.2186285 (5500)\ttotal: 2m 7s\tremaining: 1m 44s\n",
      "5600:\tlearn: 0.1971366\ttest: 0.2185893\tbest: 0.2185890 (5598)\ttotal: 2m 10s\tremaining: 1m 42s\n",
      "5700:\tlearn: 0.1967921\ttest: 0.2185556\tbest: 0.2185556 (5700)\ttotal: 2m 12s\tremaining: 1m 39s\n",
      "5800:\tlearn: 0.1964417\ttest: 0.2185297\tbest: 0.2185293 (5799)\ttotal: 2m 14s\tremaining: 1m 37s\n",
      "5900:\tlearn: 0.1961072\ttest: 0.2184954\tbest: 0.2184927 (5894)\ttotal: 2m 17s\tremaining: 1m 35s\n",
      "6000:\tlearn: 0.1957864\ttest: 0.2184702\tbest: 0.2184702 (6000)\ttotal: 2m 19s\tremaining: 1m 32s\n",
      "6100:\tlearn: 0.1954568\ttest: 0.2184359\tbest: 0.2184344 (6099)\ttotal: 2m 21s\tremaining: 1m 30s\n",
      "6200:\tlearn: 0.1951109\ttest: 0.2183970\tbest: 0.2183949 (6195)\ttotal: 2m 23s\tremaining: 1m 27s\n",
      "6300:\tlearn: 0.1947887\ttest: 0.2183581\tbest: 0.2183558 (6295)\ttotal: 2m 26s\tremaining: 1m 25s\n",
      "6400:\tlearn: 0.1944604\ttest: 0.2183260\tbest: 0.2183248 (6399)\ttotal: 2m 28s\tremaining: 1m 23s\n",
      "6500:\tlearn: 0.1941293\ttest: 0.2182987\tbest: 0.2182986 (6499)\ttotal: 2m 30s\tremaining: 1m 20s\n",
      "6600:\tlearn: 0.1938254\ttest: 0.2182747\tbest: 0.2182747 (6600)\ttotal: 2m 32s\tremaining: 1m 18s\n",
      "6700:\tlearn: 0.1935226\ttest: 0.2182432\tbest: 0.2182432 (6700)\ttotal: 2m 35s\tremaining: 1m 16s\n",
      "6800:\tlearn: 0.1932090\ttest: 0.2182190\tbest: 0.2182189 (6799)\ttotal: 2m 37s\tremaining: 1m 13s\n",
      "6900:\tlearn: 0.1929031\ttest: 0.2181954\tbest: 0.2181950 (6899)\ttotal: 2m 40s\tremaining: 1m 11s\n",
      "7000:\tlearn: 0.1925843\ttest: 0.2181766\tbest: 0.2181752 (6989)\ttotal: 2m 42s\tremaining: 1m 9s\n",
      "7100:\tlearn: 0.1922523\ttest: 0.2181520\tbest: 0.2181520 (7100)\ttotal: 2m 44s\tremaining: 1m 7s\n",
      "7200:\tlearn: 0.1919425\ttest: 0.2181312\tbest: 0.2181297 (7198)\ttotal: 2m 47s\tremaining: 1m 4s\n",
      "7300:\tlearn: 0.1916339\ttest: 0.2181004\tbest: 0.2181004 (7300)\ttotal: 2m 49s\tremaining: 1m 2s\n",
      "7400:\tlearn: 0.1913165\ttest: 0.2180638\tbest: 0.2180638 (7400)\ttotal: 2m 51s\tremaining: 1m\n",
      "7500:\tlearn: 0.1910003\ttest: 0.2180380\tbest: 0.2180380 (7500)\ttotal: 2m 53s\tremaining: 57.9s\n",
      "7600:\tlearn: 0.1906726\ttest: 0.2180200\tbest: 0.2180194 (7596)\ttotal: 2m 56s\tremaining: 55.5s\n",
      "7700:\tlearn: 0.1903826\ttest: 0.2179945\tbest: 0.2179945 (7700)\ttotal: 2m 58s\tremaining: 53.3s\n",
      "7800:\tlearn: 0.1900769\ttest: 0.2179684\tbest: 0.2179671 (7798)\ttotal: 3m\tremaining: 50.9s\n",
      "7900:\tlearn: 0.1897873\ttest: 0.2179499\tbest: 0.2179485 (7897)\ttotal: 3m 2s\tremaining: 48.6s\n",
      "8000:\tlearn: 0.1894672\ttest: 0.2179314\tbest: 0.2179314 (8000)\ttotal: 3m 5s\tremaining: 46.2s\n",
      "8100:\tlearn: 0.1891740\ttest: 0.2179065\tbest: 0.2179065 (8100)\ttotal: 3m 7s\tremaining: 43.9s\n",
      "8200:\tlearn: 0.1888633\ttest: 0.2178797\tbest: 0.2178780 (8199)\ttotal: 3m 9s\tremaining: 41.6s\n",
      "8300:\tlearn: 0.1885502\ttest: 0.2178572\tbest: 0.2178560 (8298)\ttotal: 3m 12s\tremaining: 39.3s\n",
      "8400:\tlearn: 0.1882317\ttest: 0.2178437\tbest: 0.2178432 (8360)\ttotal: 3m 14s\tremaining: 36.9s\n",
      "8500:\tlearn: 0.1879262\ttest: 0.2178188\tbest: 0.2178181 (8498)\ttotal: 3m 16s\tremaining: 34.6s\n",
      "8600:\tlearn: 0.1876109\ttest: 0.2177832\tbest: 0.2177824 (8599)\ttotal: 3m 18s\tremaining: 32.3s\n",
      "8700:\tlearn: 0.1873109\ttest: 0.2177508\tbest: 0.2177508 (8700)\ttotal: 3m 21s\tremaining: 30s\n",
      "8800:\tlearn: 0.1870094\ttest: 0.2177300\tbest: 0.2177300 (8799)\ttotal: 3m 23s\tremaining: 27.7s\n",
      "8900:\tlearn: 0.1867088\ttest: 0.2177180\tbest: 0.2177152 (8891)\ttotal: 3m 25s\tremaining: 25.3s\n",
      "9000:\tlearn: 0.1863961\ttest: 0.2176881\tbest: 0.2176867 (8993)\ttotal: 3m 27s\tremaining: 23s\n",
      "9100:\tlearn: 0.1861085\ttest: 0.2176817\tbest: 0.2176799 (9098)\ttotal: 3m 30s\tremaining: 20.7s\n",
      "9200:\tlearn: 0.1858105\ttest: 0.2176696\tbest: 0.2176696 (9200)\ttotal: 3m 32s\tremaining: 18.4s\n",
      "9300:\tlearn: 0.1855071\ttest: 0.2176578\tbest: 0.2176563 (9279)\ttotal: 3m 34s\tremaining: 16.1s\n",
      "9400:\tlearn: 0.1852034\ttest: 0.2176352\tbest: 0.2176348 (9399)\ttotal: 3m 36s\tremaining: 13.8s\n",
      "9500:\tlearn: 0.1849126\ttest: 0.2176275\tbest: 0.2176260 (9477)\ttotal: 3m 38s\tremaining: 11.5s\n",
      "9600:\tlearn: 0.1846199\ttest: 0.2176096\tbest: 0.2176096 (9600)\ttotal: 3m 42s\tremaining: 9.21s\n",
      "9700:\tlearn: 0.1843152\ttest: 0.2175857\tbest: 0.2175857 (9700)\ttotal: 3m 44s\tremaining: 6.89s\n",
      "9800:\tlearn: 0.1840174\ttest: 0.2175750\tbest: 0.2175711 (9784)\ttotal: 3m 46s\tremaining: 4.58s\n",
      "9900:\tlearn: 0.1837300\ttest: 0.2175626\tbest: 0.2175620 (9897)\ttotal: 3m 48s\tremaining: 2.26s\n",
      "9998:\tlearn: 0.1834595\ttest: 0.2175451\tbest: 0.2175451 (9998)\ttotal: 3m 50s\tremaining: 0us\n",
      "bestTest = 0.2175450732\n",
      "bestIteration = 9998\n",
      "******* Fold 3 ******* \n"
     ]
    },
    {
     "name": "stderr",
     "output_type": "stream",
     "text": [
      "Warning: less than 75% gpu memory available for training. Free: 11447.75 Total: 16280.875\n"
     ]
    },
    {
     "name": "stdout",
     "output_type": "stream",
     "text": [
      "Learning rate set to 0.016616\n",
      "0:\tlearn: 0.6718860\ttest: 0.6718654\tbest: 0.6718654 (0)\ttotal: 26.9ms\tremaining: 4m 29s\n",
      "100:\tlearn: 0.2576900\ttest: 0.2588482\tbest: 0.2588482 (100)\ttotal: 2.41s\tremaining: 3m 55s\n",
      "200:\tlearn: 0.2362336\ttest: 0.2379157\tbest: 0.2379157 (200)\ttotal: 4.71s\tremaining: 3m 49s\n",
      "300:\tlearn: 0.2300865\ttest: 0.2320398\tbest: 0.2320398 (300)\ttotal: 6.99s\tremaining: 3m 45s\n",
      "400:\tlearn: 0.2266600\ttest: 0.2289008\tbest: 0.2289008 (400)\ttotal: 9.57s\tremaining: 3m 49s\n",
      "500:\tlearn: 0.2243332\ttest: 0.2269121\tbest: 0.2269121 (500)\ttotal: 11.9s\tremaining: 3m 45s\n",
      "600:\tlearn: 0.2225633\ttest: 0.2255061\tbest: 0.2255061 (600)\ttotal: 14.1s\tremaining: 3m 41s\n",
      "700:\tlearn: 0.2211756\ttest: 0.2244754\tbest: 0.2244754 (700)\ttotal: 16.4s\tremaining: 3m 37s\n",
      "800:\tlearn: 0.2199497\ttest: 0.2236598\tbest: 0.2236598 (800)\ttotal: 19s\tremaining: 3m 37s\n",
      "900:\tlearn: 0.2188883\ttest: 0.2229972\tbest: 0.2229972 (900)\ttotal: 21.2s\tremaining: 3m 34s\n",
      "1000:\tlearn: 0.2179717\ttest: 0.2224868\tbest: 0.2224868 (1000)\ttotal: 23.4s\tremaining: 3m 30s\n",
      "1100:\tlearn: 0.2171342\ttest: 0.2220626\tbest: 0.2220626 (1100)\ttotal: 25.6s\tremaining: 3m 27s\n",
      "1200:\tlearn: 0.2163543\ttest: 0.2216749\tbest: 0.2216749 (1200)\ttotal: 27.8s\tremaining: 3m 23s\n",
      "1300:\tlearn: 0.2156263\ttest: 0.2213664\tbest: 0.2213664 (1300)\ttotal: 30.5s\tremaining: 3m 23s\n",
      "1400:\tlearn: 0.2149327\ttest: 0.2210630\tbest: 0.2210630 (1400)\ttotal: 32.8s\tremaining: 3m 21s\n",
      "1500:\tlearn: 0.2142951\ttest: 0.2208117\tbest: 0.2208117 (1500)\ttotal: 35s\tremaining: 3m 18s\n",
      "1600:\tlearn: 0.2136715\ttest: 0.2205882\tbest: 0.2205882 (1600)\ttotal: 37.9s\tremaining: 3m 18s\n",
      "1700:\tlearn: 0.2131003\ttest: 0.2203968\tbest: 0.2203968 (1700)\ttotal: 40.2s\tremaining: 3m 16s\n",
      "1800:\tlearn: 0.2125441\ttest: 0.2202219\tbest: 0.2202219 (1800)\ttotal: 42.8s\tremaining: 3m 14s\n",
      "1900:\tlearn: 0.2120255\ttest: 0.2200687\tbest: 0.2200687 (1900)\ttotal: 45s\tremaining: 3m 11s\n",
      "2000:\tlearn: 0.2114860\ttest: 0.2199160\tbest: 0.2199160 (2000)\ttotal: 47.3s\tremaining: 3m 8s\n",
      "2100:\tlearn: 0.2109827\ttest: 0.2197615\tbest: 0.2197615 (2100)\ttotal: 49.5s\tremaining: 3m 5s\n",
      "2200:\tlearn: 0.2104972\ttest: 0.2196382\tbest: 0.2196382 (2200)\ttotal: 51.9s\tremaining: 3m 4s\n",
      "2300:\tlearn: 0.2100252\ttest: 0.2195244\tbest: 0.2195244 (2300)\ttotal: 54.3s\tremaining: 3m 1s\n",
      "2400:\tlearn: 0.2095440\ttest: 0.2194038\tbest: 0.2194038 (2400)\ttotal: 56.5s\tremaining: 2m 58s\n",
      "2500:\tlearn: 0.2090778\ttest: 0.2192658\tbest: 0.2192658 (2500)\ttotal: 58.7s\tremaining: 2m 55s\n",
      "2600:\tlearn: 0.2086171\ttest: 0.2191764\tbest: 0.2191762 (2599)\ttotal: 1m\tremaining: 2m 53s\n",
      "2700:\tlearn: 0.2082005\ttest: 0.2190704\tbest: 0.2190704 (2700)\ttotal: 1m 3s\tremaining: 2m 51s\n",
      "2800:\tlearn: 0.2077559\ttest: 0.2189866\tbest: 0.2189866 (2800)\ttotal: 1m 5s\tremaining: 2m 48s\n",
      "2900:\tlearn: 0.2073404\ttest: 0.2188966\tbest: 0.2188966 (2900)\ttotal: 1m 7s\tremaining: 2m 45s\n",
      "3000:\tlearn: 0.2069150\ttest: 0.2188215\tbest: 0.2188215 (3000)\ttotal: 1m 9s\tremaining: 2m 42s\n",
      "3100:\tlearn: 0.2064736\ttest: 0.2187392\tbest: 0.2187392 (3097)\ttotal: 1m 12s\tremaining: 2m 40s\n",
      "3200:\tlearn: 0.2060627\ttest: 0.2186688\tbest: 0.2186688 (3200)\ttotal: 1m 14s\tremaining: 2m 38s\n",
      "3300:\tlearn: 0.2056342\ttest: 0.2185983\tbest: 0.2185983 (3300)\ttotal: 1m 16s\tremaining: 2m 35s\n",
      "3400:\tlearn: 0.2052158\ttest: 0.2185203\tbest: 0.2185203 (3400)\ttotal: 1m 18s\tremaining: 2m 33s\n",
      "3500:\tlearn: 0.2048315\ttest: 0.2184498\tbest: 0.2184496 (3495)\ttotal: 1m 21s\tremaining: 2m 30s\n",
      "3600:\tlearn: 0.2044454\ttest: 0.2183983\tbest: 0.2183983 (3595)\ttotal: 1m 23s\tremaining: 2m 28s\n",
      "3700:\tlearn: 0.2040599\ttest: 0.2183374\tbest: 0.2183374 (3700)\ttotal: 1m 25s\tremaining: 2m 25s\n",
      "3800:\tlearn: 0.2036738\ttest: 0.2182774\tbest: 0.2182774 (3800)\ttotal: 1m 27s\tremaining: 2m 23s\n",
      "3900:\tlearn: 0.2032792\ttest: 0.2182173\tbest: 0.2182173 (3900)\ttotal: 1m 30s\tremaining: 2m 20s\n",
      "4000:\tlearn: 0.2028983\ttest: 0.2181660\tbest: 0.2181660 (4000)\ttotal: 1m 32s\tremaining: 2m 18s\n",
      "4100:\tlearn: 0.2024929\ttest: 0.2180906\tbest: 0.2180906 (4100)\ttotal: 1m 34s\tremaining: 2m 15s\n",
      "4200:\tlearn: 0.2021037\ttest: 0.2180427\tbest: 0.2180418 (4195)\ttotal: 1m 36s\tremaining: 2m 13s\n",
      "4300:\tlearn: 0.2017225\ttest: 0.2179899\tbest: 0.2179894 (4299)\ttotal: 1m 39s\tremaining: 2m 12s\n",
      "4400:\tlearn: 0.2013540\ttest: 0.2179378\tbest: 0.2179378 (4400)\ttotal: 1m 41s\tremaining: 2m 9s\n",
      "4500:\tlearn: 0.2009935\ttest: 0.2179040\tbest: 0.2179040 (4500)\ttotal: 1m 44s\tremaining: 2m 7s\n",
      "4600:\tlearn: 0.2006264\ttest: 0.2178726\tbest: 0.2178696 (4593)\ttotal: 1m 46s\tremaining: 2m 5s\n",
      "4700:\tlearn: 0.2002616\ttest: 0.2178292\tbest: 0.2178292 (4699)\ttotal: 1m 48s\tremaining: 2m 2s\n",
      "4800:\tlearn: 0.1999018\ttest: 0.2177838\tbest: 0.2177838 (4800)\ttotal: 1m 50s\tremaining: 2m\n",
      "4900:\tlearn: 0.1995530\ttest: 0.2177422\tbest: 0.2177405 (4897)\ttotal: 1m 53s\tremaining: 1m 57s\n",
      "5000:\tlearn: 0.1991933\ttest: 0.2177046\tbest: 0.2177046 (5000)\ttotal: 1m 55s\tremaining: 1m 55s\n",
      "5100:\tlearn: 0.1988498\ttest: 0.2176596\tbest: 0.2176589 (5097)\ttotal: 1m 57s\tremaining: 1m 53s\n",
      "5200:\tlearn: 0.1985016\ttest: 0.2176224\tbest: 0.2176224 (5197)\ttotal: 2m\tremaining: 1m 50s\n",
      "5300:\tlearn: 0.1981523\ttest: 0.2175717\tbest: 0.2175717 (5300)\ttotal: 2m 2s\tremaining: 1m 48s\n",
      "5400:\tlearn: 0.1978130\ttest: 0.2175432\tbest: 0.2175432 (5400)\ttotal: 2m 4s\tremaining: 1m 45s\n",
      "5500:\tlearn: 0.1974651\ttest: 0.2175173\tbest: 0.2175151 (5496)\ttotal: 2m 6s\tremaining: 1m 43s\n",
      "5600:\tlearn: 0.1971187\ttest: 0.2174864\tbest: 0.2174849 (5598)\ttotal: 2m 9s\tremaining: 1m 41s\n",
      "5700:\tlearn: 0.1967767\ttest: 0.2174454\tbest: 0.2174444 (5685)\ttotal: 2m 11s\tremaining: 1m 38s\n",
      "5800:\tlearn: 0.1964375\ttest: 0.2174044\tbest: 0.2174011 (5795)\ttotal: 2m 13s\tremaining: 1m 36s\n",
      "5900:\tlearn: 0.1960928\ttest: 0.2173744\tbest: 0.2173731 (5897)\ttotal: 2m 15s\tremaining: 1m 34s\n",
      "6000:\tlearn: 0.1957616\ttest: 0.2173385\tbest: 0.2173385 (6000)\ttotal: 2m 17s\tremaining: 1m 31s\n",
      "6100:\tlearn: 0.1954314\ttest: 0.2173108\tbest: 0.2173093 (6095)\ttotal: 2m 20s\tremaining: 1m 29s\n",
      "6200:\tlearn: 0.1950950\ttest: 0.2172873\tbest: 0.2172873 (6200)\ttotal: 2m 22s\tremaining: 1m 27s\n",
      "6300:\tlearn: 0.1947615\ttest: 0.2172448\tbest: 0.2172448 (6300)\ttotal: 2m 24s\tremaining: 1m 24s\n",
      "6400:\tlearn: 0.1944371\ttest: 0.2172346\tbest: 0.2172285 (6386)\ttotal: 2m 26s\tremaining: 1m 22s\n",
      "6500:\tlearn: 0.1941136\ttest: 0.2171985\tbest: 0.2171985 (6499)\ttotal: 2m 28s\tremaining: 1m 20s\n",
      "6600:\tlearn: 0.1937832\ttest: 0.2171671\tbest: 0.2171664 (6590)\ttotal: 2m 31s\tremaining: 1m 17s\n",
      "6700:\tlearn: 0.1934533\ttest: 0.2171558\tbest: 0.2171558 (6700)\ttotal: 2m 33s\tremaining: 1m 15s\n",
      "6800:\tlearn: 0.1931235\ttest: 0.2171273\tbest: 0.2171273 (6800)\ttotal: 2m 35s\tremaining: 1m 13s\n",
      "6900:\tlearn: 0.1927933\ttest: 0.2170967\tbest: 0.2170966 (6891)\ttotal: 2m 38s\tremaining: 1m 10s\n",
      "7000:\tlearn: 0.1924772\ttest: 0.2170723\tbest: 0.2170723 (7000)\ttotal: 2m 41s\tremaining: 1m 9s\n",
      "7100:\tlearn: 0.1921575\ttest: 0.2170604\tbest: 0.2170600 (7098)\ttotal: 2m 43s\tremaining: 1m 6s\n",
      "7200:\tlearn: 0.1918349\ttest: 0.2170367\tbest: 0.2170366 (7199)\ttotal: 2m 45s\tremaining: 1m 4s\n",
      "7300:\tlearn: 0.1915242\ttest: 0.2170123\tbest: 0.2170122 (7298)\ttotal: 2m 47s\tremaining: 1m 2s\n",
      "7400:\tlearn: 0.1912019\ttest: 0.2169935\tbest: 0.2169903 (7390)\ttotal: 2m 50s\tremaining: 59.7s\n",
      "7500:\tlearn: 0.1908771\ttest: 0.2169652\tbest: 0.2169652 (7500)\ttotal: 2m 52s\tremaining: 57.5s\n",
      "7600:\tlearn: 0.1905611\ttest: 0.2169407\tbest: 0.2169407 (7600)\ttotal: 2m 54s\tremaining: 55.2s\n",
      "7700:\tlearn: 0.1902584\ttest: 0.2169224\tbest: 0.2169224 (7700)\ttotal: 2m 56s\tremaining: 52.8s\n",
      "7800:\tlearn: 0.1899463\ttest: 0.2169020\tbest: 0.2168962 (7787)\ttotal: 2m 59s\tremaining: 50.5s\n",
      "7900:\tlearn: 0.1896446\ttest: 0.2168836\tbest: 0.2168816 (7889)\ttotal: 3m 1s\tremaining: 48.2s\n",
      "8000:\tlearn: 0.1893440\ttest: 0.2168522\tbest: 0.2168521 (7998)\ttotal: 3m 3s\tremaining: 45.9s\n",
      "8100:\tlearn: 0.1890463\ttest: 0.2168274\tbest: 0.2168271 (8098)\ttotal: 3m 6s\tremaining: 43.6s\n",
      "8200:\tlearn: 0.1887160\ttest: 0.2168128\tbest: 0.2168117 (8198)\ttotal: 3m 8s\tremaining: 41.3s\n",
      "8300:\tlearn: 0.1884181\ttest: 0.2167980\tbest: 0.2167959 (8299)\ttotal: 3m 10s\tremaining: 39s\n",
      "8400:\tlearn: 0.1881133\ttest: 0.2167825\tbest: 0.2167823 (8399)\ttotal: 3m 12s\tremaining: 36.6s\n",
      "8500:\tlearn: 0.1878160\ttest: 0.2167668\tbest: 0.2167668 (8500)\ttotal: 3m 15s\tremaining: 34.4s\n",
      "8600:\tlearn: 0.1875174\ttest: 0.2167581\tbest: 0.2167550 (8582)\ttotal: 3m 17s\tremaining: 32.1s\n",
      "8700:\tlearn: 0.1872152\ttest: 0.2167471\tbest: 0.2167447 (8685)\ttotal: 3m 19s\tremaining: 29.8s\n",
      "8800:\tlearn: 0.1869096\ttest: 0.2167290\tbest: 0.2167273 (8795)\ttotal: 3m 21s\tremaining: 27.5s\n",
      "8900:\tlearn: 0.1866081\ttest: 0.2167017\tbest: 0.2167017 (8900)\ttotal: 3m 23s\tremaining: 25.2s\n",
      "9000:\tlearn: 0.1863045\ttest: 0.2166851\tbest: 0.2166845 (8996)\ttotal: 3m 26s\tremaining: 22.9s\n",
      "9100:\tlearn: 0.1860038\ttest: 0.2166806\tbest: 0.2166753 (9049)\ttotal: 3m 28s\tremaining: 20.6s\n",
      "9200:\tlearn: 0.1857061\ttest: 0.2166617\tbest: 0.2166605 (9195)\ttotal: 3m 31s\tremaining: 18.3s\n",
      "9300:\tlearn: 0.1854063\ttest: 0.2166308\tbest: 0.2166295 (9298)\ttotal: 3m 33s\tremaining: 16s\n",
      "9400:\tlearn: 0.1851100\ttest: 0.2166165\tbest: 0.2166165 (9397)\ttotal: 3m 35s\tremaining: 13.7s\n",
      "9500:\tlearn: 0.1848194\ttest: 0.2165936\tbest: 0.2165929 (9496)\ttotal: 3m 37s\tremaining: 11.4s\n",
      "9600:\tlearn: 0.1845351\ttest: 0.2165735\tbest: 0.2165714 (9573)\ttotal: 3m 40s\tremaining: 9.12s\n",
      "9700:\tlearn: 0.1842520\ttest: 0.2165565\tbest: 0.2165565 (9700)\ttotal: 3m 43s\tremaining: 6.85s\n",
      "9800:\tlearn: 0.1839656\ttest: 0.2165382\tbest: 0.2165382 (9800)\ttotal: 3m 45s\tremaining: 4.55s\n",
      "9900:\tlearn: 0.1836733\ttest: 0.2165293\tbest: 0.2165293 (9900)\ttotal: 3m 48s\tremaining: 2.26s\n",
      "9998:\tlearn: 0.1833942\ttest: 0.2165149\tbest: 0.2165149 (9998)\ttotal: 3m 50s\tremaining: 0us\n",
      "bestTest = 0.2165149144\n",
      "bestIteration = 9998\n",
      "******* Fold 4 ******* \n"
     ]
    },
    {
     "name": "stderr",
     "output_type": "stream",
     "text": [
      "Warning: less than 75% gpu memory available for training. Free: 11443.75 Total: 16280.875\n"
     ]
    },
    {
     "name": "stdout",
     "output_type": "stream",
     "text": [
      "Learning rate set to 0.016616\n",
      "0:\tlearn: 0.6722563\ttest: 0.6722496\tbest: 0.6722496 (0)\ttotal: 25.9ms\tremaining: 4m 18s\n",
      "100:\tlearn: 0.2582535\ttest: 0.2576921\tbest: 0.2576921 (100)\ttotal: 2.42s\tremaining: 3m 56s\n",
      "200:\tlearn: 0.2367914\ttest: 0.2363306\tbest: 0.2363306 (200)\ttotal: 5.04s\tremaining: 4m 5s\n",
      "300:\tlearn: 0.2305092\ttest: 0.2303296\tbest: 0.2303296 (300)\ttotal: 7.35s\tremaining: 3m 56s\n",
      "400:\tlearn: 0.2270112\ttest: 0.2272204\tbest: 0.2272204 (400)\ttotal: 9.62s\tremaining: 3m 50s\n",
      "500:\tlearn: 0.2246597\ttest: 0.2252942\tbest: 0.2252942 (500)\ttotal: 11.9s\tremaining: 3m 45s\n",
      "600:\tlearn: 0.2229248\ttest: 0.2239520\tbest: 0.2239520 (600)\ttotal: 14.3s\tremaining: 3m 43s\n",
      "700:\tlearn: 0.2214586\ttest: 0.2228890\tbest: 0.2228890 (700)\ttotal: 16.9s\tremaining: 3m 43s\n",
      "800:\tlearn: 0.2202492\ttest: 0.2221051\tbest: 0.2221051 (800)\ttotal: 19.1s\tremaining: 3m 39s\n",
      "900:\tlearn: 0.2191711\ttest: 0.2214416\tbest: 0.2214416 (900)\ttotal: 21.3s\tremaining: 3m 35s\n",
      "1000:\tlearn: 0.2182562\ttest: 0.2209431\tbest: 0.2209431 (1000)\ttotal: 23.6s\tremaining: 3m 31s\n",
      "1100:\tlearn: 0.2173854\ttest: 0.2205017\tbest: 0.2205017 (1100)\ttotal: 26.1s\tremaining: 3m 30s\n",
      "1200:\tlearn: 0.2166301\ttest: 0.2201343\tbest: 0.2201343 (1200)\ttotal: 28.3s\tremaining: 3m 27s\n",
      "1300:\tlearn: 0.2159159\ttest: 0.2198101\tbest: 0.2198101 (1300)\ttotal: 30.5s\tremaining: 3m 24s\n",
      "1400:\tlearn: 0.2152553\ttest: 0.2195528\tbest: 0.2195528 (1400)\ttotal: 32.8s\tremaining: 3m 21s\n",
      "1500:\tlearn: 0.2146411\ttest: 0.2193204\tbest: 0.2193204 (1500)\ttotal: 35s\tremaining: 3m 17s\n",
      "1600:\tlearn: 0.2140529\ttest: 0.2190963\tbest: 0.2190963 (1600)\ttotal: 38.5s\tremaining: 3m 21s\n",
      "1700:\tlearn: 0.2134944\ttest: 0.2189171\tbest: 0.2189171 (1700)\ttotal: 40.7s\tremaining: 3m 18s\n",
      "1800:\tlearn: 0.2129437\ttest: 0.2187574\tbest: 0.2187570 (1799)\ttotal: 42.9s\tremaining: 3m 15s\n",
      "1900:\tlearn: 0.2124195\ttest: 0.2186069\tbest: 0.2186061 (1897)\ttotal: 45.1s\tremaining: 3m 12s\n",
      "2000:\tlearn: 0.2119084\ttest: 0.2184500\tbest: 0.2184500 (2000)\ttotal: 47.5s\tremaining: 3m 10s\n",
      "2100:\tlearn: 0.2114244\ttest: 0.2183286\tbest: 0.2183286 (2100)\ttotal: 49.8s\tremaining: 3m 7s\n",
      "2200:\tlearn: 0.2109408\ttest: 0.2182145\tbest: 0.2182145 (2200)\ttotal: 52s\tremaining: 3m 4s\n",
      "2300:\tlearn: 0.2104508\ttest: 0.2180789\tbest: 0.2180789 (2300)\ttotal: 54.1s\tremaining: 3m 1s\n",
      "2400:\tlearn: 0.2099844\ttest: 0.2179803\tbest: 0.2179803 (2400)\ttotal: 56.3s\tremaining: 2m 58s\n",
      "2500:\tlearn: 0.2095320\ttest: 0.2178686\tbest: 0.2178683 (2497)\ttotal: 58.8s\tremaining: 2m 56s\n",
      "2600:\tlearn: 0.2090512\ttest: 0.2177607\tbest: 0.2177603 (2598)\ttotal: 1m 1s\tremaining: 2m 53s\n",
      "2700:\tlearn: 0.2085954\ttest: 0.2176700\tbest: 0.2176700 (2700)\ttotal: 1m 3s\tremaining: 2m 50s\n",
      "2800:\tlearn: 0.2081641\ttest: 0.2175734\tbest: 0.2175734 (2800)\ttotal: 1m 5s\tremaining: 2m 48s\n",
      "2900:\tlearn: 0.2077392\ttest: 0.2174790\tbest: 0.2174790 (2900)\ttotal: 1m 7s\tremaining: 2m 45s\n",
      "3000:\tlearn: 0.2073156\ttest: 0.2173916\tbest: 0.2173916 (3000)\ttotal: 1m 10s\tremaining: 2m 43s\n",
      "3100:\tlearn: 0.2069077\ttest: 0.2173043\tbest: 0.2173043 (3100)\ttotal: 1m 12s\tremaining: 2m 40s\n",
      "3200:\tlearn: 0.2064863\ttest: 0.2172301\tbest: 0.2172299 (3197)\ttotal: 1m 14s\tremaining: 2m 37s\n",
      "3300:\tlearn: 0.2060788\ttest: 0.2171553\tbest: 0.2171553 (3300)\ttotal: 1m 16s\tremaining: 2m 35s\n",
      "3400:\tlearn: 0.2056874\ttest: 0.2170853\tbest: 0.2170853 (3400)\ttotal: 1m 18s\tremaining: 2m 32s\n",
      "3500:\tlearn: 0.2053043\ttest: 0.2170035\tbest: 0.2170035 (3500)\ttotal: 1m 21s\tremaining: 2m 30s\n",
      "3600:\tlearn: 0.2049055\ttest: 0.2169338\tbest: 0.2169338 (3600)\ttotal: 1m 23s\tremaining: 2m 28s\n",
      "3700:\tlearn: 0.2045329\ttest: 0.2168855\tbest: 0.2168839 (3696)\ttotal: 1m 25s\tremaining: 2m 25s\n",
      "3800:\tlearn: 0.2041595\ttest: 0.2168293\tbest: 0.2168293 (3800)\ttotal: 1m 27s\tremaining: 2m 22s\n",
      "3900:\tlearn: 0.2037925\ttest: 0.2167787\tbest: 0.2167781 (3899)\ttotal: 1m 29s\tremaining: 2m 20s\n",
      "4000:\tlearn: 0.2033908\ttest: 0.2167137\tbest: 0.2167137 (4000)\ttotal: 1m 32s\tremaining: 2m 18s\n",
      "4100:\tlearn: 0.2030120\ttest: 0.2166637\tbest: 0.2166637 (4100)\ttotal: 1m 34s\tremaining: 2m 15s\n",
      "4200:\tlearn: 0.2026491\ttest: 0.2165953\tbest: 0.2165946 (4199)\ttotal: 1m 36s\tremaining: 2m 13s\n",
      "4300:\tlearn: 0.2023020\ttest: 0.2165541\tbest: 0.2165541 (4300)\ttotal: 1m 39s\tremaining: 2m 12s\n",
      "4400:\tlearn: 0.2019391\ttest: 0.2164994\tbest: 0.2164994 (4400)\ttotal: 1m 42s\tremaining: 2m 10s\n",
      "4500:\tlearn: 0.2015597\ttest: 0.2164464\tbest: 0.2164449 (4497)\ttotal: 1m 44s\tremaining: 2m 7s\n",
      "4600:\tlearn: 0.2012040\ttest: 0.2164049\tbest: 0.2164049 (4599)\ttotal: 1m 46s\tremaining: 2m 5s\n",
      "4700:\tlearn: 0.2008304\ttest: 0.2163668\tbest: 0.2163668 (4700)\ttotal: 1m 48s\tremaining: 2m 2s\n",
      "4800:\tlearn: 0.2004806\ttest: 0.2163240\tbest: 0.2163229 (4796)\ttotal: 1m 50s\tremaining: 2m\n",
      "4900:\tlearn: 0.2001181\ttest: 0.2162925\tbest: 0.2162922 (4898)\ttotal: 1m 53s\tremaining: 1m 57s\n",
      "5000:\tlearn: 0.1997733\ttest: 0.2162583\tbest: 0.2162583 (5000)\ttotal: 1m 55s\tremaining: 1m 55s\n",
      "5100:\tlearn: 0.1994017\ttest: 0.2162194\tbest: 0.2162177 (5098)\ttotal: 1m 57s\tremaining: 1m 53s\n",
      "5200:\tlearn: 0.1990606\ttest: 0.2161781\tbest: 0.2161781 (5200)\ttotal: 2m\tremaining: 1m 50s\n",
      "5300:\tlearn: 0.1987041\ttest: 0.2161524\tbest: 0.2161507 (5273)\ttotal: 2m 2s\tremaining: 1m 48s\n",
      "5400:\tlearn: 0.1983618\ttest: 0.2161150\tbest: 0.2161135 (5387)\ttotal: 2m 4s\tremaining: 1m 46s\n",
      "5500:\tlearn: 0.1980169\ttest: 0.2160745\tbest: 0.2160745 (5500)\ttotal: 2m 6s\tremaining: 1m 43s\n",
      "5600:\tlearn: 0.1976775\ttest: 0.2160434\tbest: 0.2160417 (5599)\ttotal: 2m 9s\tremaining: 1m 41s\n",
      "5700:\tlearn: 0.1973560\ttest: 0.2160082\tbest: 0.2160073 (5698)\ttotal: 2m 11s\tremaining: 1m 38s\n",
      "5800:\tlearn: 0.1970258\ttest: 0.2159782\tbest: 0.2159754 (5790)\ttotal: 2m 13s\tremaining: 1m 36s\n",
      "5900:\tlearn: 0.1966861\ttest: 0.2159498\tbest: 0.2159495 (5895)\ttotal: 2m 15s\tremaining: 1m 34s\n",
      "6000:\tlearn: 0.1963505\ttest: 0.2159042\tbest: 0.2159042 (6000)\ttotal: 2m 18s\tremaining: 1m 31s\n",
      "6100:\tlearn: 0.1960235\ttest: 0.2158732\tbest: 0.2158725 (6088)\ttotal: 2m 20s\tremaining: 1m 29s\n",
      "6200:\tlearn: 0.1957053\ttest: 0.2158516\tbest: 0.2158494 (6198)\ttotal: 2m 22s\tremaining: 1m 27s\n",
      "6300:\tlearn: 0.1953534\ttest: 0.2158156\tbest: 0.2158143 (6291)\ttotal: 2m 24s\tremaining: 1m 24s\n",
      "6400:\tlearn: 0.1950260\ttest: 0.2157818\tbest: 0.2157814 (6399)\ttotal: 2m 27s\tremaining: 1m 22s\n",
      "6500:\tlearn: 0.1947052\ttest: 0.2157506\tbest: 0.2157498 (6491)\ttotal: 2m 29s\tremaining: 1m 20s\n",
      "6600:\tlearn: 0.1943782\ttest: 0.2157204\tbest: 0.2157204 (6600)\ttotal: 2m 31s\tremaining: 1m 17s\n",
      "6700:\tlearn: 0.1940518\ttest: 0.2157027\tbest: 0.2157027 (6700)\ttotal: 2m 33s\tremaining: 1m 15s\n",
      "6800:\tlearn: 0.1937160\ttest: 0.2156600\tbest: 0.2156600 (6798)\ttotal: 2m 35s\tremaining: 1m 13s\n",
      "6900:\tlearn: 0.1933880\ttest: 0.2156282\tbest: 0.2156270 (6896)\ttotal: 2m 38s\tremaining: 1m 11s\n",
      "7000:\tlearn: 0.1930717\ttest: 0.2155999\tbest: 0.2155984 (6989)\ttotal: 2m 41s\tremaining: 1m 9s\n",
      "7100:\tlearn: 0.1927585\ttest: 0.2155906\tbest: 0.2155906 (7100)\ttotal: 2m 43s\tremaining: 1m 6s\n",
      "7200:\tlearn: 0.1924271\ttest: 0.2155767\tbest: 0.2155767 (7200)\ttotal: 2m 45s\tremaining: 1m 4s\n",
      "7300:\tlearn: 0.1921186\ttest: 0.2155539\tbest: 0.2155532 (7296)\ttotal: 2m 47s\tremaining: 1m 2s\n",
      "7400:\tlearn: 0.1918038\ttest: 0.2155249\tbest: 0.2155238 (7397)\ttotal: 2m 50s\tremaining: 59.8s\n",
      "7500:\tlearn: 0.1914894\ttest: 0.2155020\tbest: 0.2155009 (7498)\ttotal: 2m 52s\tremaining: 57.4s\n",
      "7600:\tlearn: 0.1911720\ttest: 0.2154929\tbest: 0.2154919 (7580)\ttotal: 2m 54s\tremaining: 55.1s\n",
      "7700:\tlearn: 0.1908501\ttest: 0.2154632\tbest: 0.2154622 (7698)\ttotal: 2m 56s\tremaining: 52.8s\n",
      "7800:\tlearn: 0.1905378\ttest: 0.2154462\tbest: 0.2154462 (7800)\ttotal: 2m 59s\tremaining: 50.5s\n",
      "7900:\tlearn: 0.1902220\ttest: 0.2154064\tbest: 0.2154064 (7900)\ttotal: 3m 1s\tremaining: 48.2s\n",
      "8000:\tlearn: 0.1899091\ttest: 0.2153822\tbest: 0.2153822 (8000)\ttotal: 3m 3s\tremaining: 45.9s\n",
      "8100:\tlearn: 0.1896026\ttest: 0.2153574\tbest: 0.2153548 (8091)\ttotal: 3m 5s\tremaining: 43.5s\n",
      "8200:\tlearn: 0.1893037\ttest: 0.2153339\tbest: 0.2153338 (8192)\ttotal: 3m 8s\tremaining: 41.2s\n",
      "8300:\tlearn: 0.1890057\ttest: 0.2153137\tbest: 0.2153132 (8297)\ttotal: 3m 10s\tremaining: 39s\n",
      "8400:\tlearn: 0.1887015\ttest: 0.2152853\tbest: 0.2152847 (8398)\ttotal: 3m 12s\tremaining: 36.7s\n",
      "8500:\tlearn: 0.1883956\ttest: 0.2152728\tbest: 0.2152728 (8500)\ttotal: 3m 14s\tremaining: 34.4s\n",
      "8600:\tlearn: 0.1880880\ttest: 0.2152612\tbest: 0.2152612 (8600)\ttotal: 3m 17s\tremaining: 32s\n",
      "8700:\tlearn: 0.1877847\ttest: 0.2152462\tbest: 0.2152449 (8691)\ttotal: 3m 19s\tremaining: 29.7s\n",
      "8800:\tlearn: 0.1874746\ttest: 0.2152305\tbest: 0.2152283 (8792)\ttotal: 3m 21s\tremaining: 27.5s\n",
      "8900:\tlearn: 0.1871563\ttest: 0.2152157\tbest: 0.2152157 (8900)\ttotal: 3m 24s\tremaining: 25.2s\n",
      "9000:\tlearn: 0.1868482\ttest: 0.2151991\tbest: 0.2151974 (8998)\ttotal: 3m 26s\tremaining: 22.9s\n",
      "9100:\tlearn: 0.1865512\ttest: 0.2151888\tbest: 0.2151888 (9100)\ttotal: 3m 28s\tremaining: 20.6s\n",
      "9200:\tlearn: 0.1862677\ttest: 0.2151798\tbest: 0.2151783 (9192)\ttotal: 3m 30s\tremaining: 18.3s\n",
      "9300:\tlearn: 0.1859713\ttest: 0.2151675\tbest: 0.2151675 (9300)\ttotal: 3m 33s\tremaining: 16s\n",
      "9400:\tlearn: 0.1856546\ttest: 0.2151466\tbest: 0.2151452 (9398)\ttotal: 3m 35s\tremaining: 13.7s\n",
      "9500:\tlearn: 0.1853708\ttest: 0.2151225\tbest: 0.2151215 (9493)\ttotal: 3m 37s\tremaining: 11.4s\n",
      "9600:\tlearn: 0.1850805\ttest: 0.2151138\tbest: 0.2151135 (9574)\ttotal: 3m 39s\tremaining: 9.11s\n",
      "9700:\tlearn: 0.1847877\ttest: 0.2151074\tbest: 0.2150975 (9661)\ttotal: 3m 42s\tremaining: 6.84s\n",
      "9800:\tlearn: 0.1844906\ttest: 0.2150864\tbest: 0.2150864 (9800)\ttotal: 3m 45s\tremaining: 4.55s\n",
      "9900:\tlearn: 0.1842036\ttest: 0.2150696\tbest: 0.2150670 (9854)\ttotal: 3m 47s\tremaining: 2.25s\n",
      "9998:\tlearn: 0.1839256\ttest: 0.2150558\tbest: 0.2150542 (9984)\ttotal: 3m 49s\tremaining: 0us\n",
      "bestTest = 0.2150542309\n",
      "bestIteration = 9984\n",
      "Shrink model to first 9985 iterations.\n"
     ]
    }
   ],
   "source": [
    "N_FOLDS = 5\n",
    "oof = []\n",
    "skf = StratifiedKFold(n_splits=N_FOLDS, shuffle=True, random_state=22)\n",
    "y_oof = np.zeros(train_x.shape[0])\n",
    "y_test = np.zeros(test.shape[0])\n",
    "ix = 0\n",
    "for train_ind, val_ind in skf.split(train_x, train_y):\n",
    "    print(f\"******* Fold {ix} ******* \")\n",
    "    tr_x, val_x = (\n",
    "        train_x.iloc[train_ind].reset_index(drop=True),\n",
    "        train_x.iloc[val_ind].reset_index(drop=True),\n",
    "    )\n",
    "    tr_y, val_y = (\n",
    "        train_y.iloc[train_ind].reset_index(drop=True),\n",
    "        train_y.iloc[val_ind].reset_index(drop=True),\n",
    "    )\n",
    "\n",
    "    clf = CatBoostClassifier(iterations = 9999, random_state=22, early_stopping_rounds=200, task_type = 'GPU')\n",
    "    clf.fit(tr_x, tr_y, eval_set=[(val_x, val_y)], cat_features=cat_features,  verbose=100)\n",
    "    preds = clf.predict_proba(val_x)[:, 1]\n",
    "    #y_oof[val_ind] = y_oof[val_ind] + preds\n",
    "    clf.save_model(f'cat_boost_fold{ix}.cbm')\n",
    "    #preds_test = clf.predict_proba(test[features].to_pandas())[:, 1]\n",
    "    #y_test = y_test + preds_test / N_FOLDS\n",
    "    ix = ix + 1\n",
    "    \n",
    "    del tr_x, val_x, tr_y, val_y, clf\n",
    "    _ = gc.collect()\n",
    "    \n",
    "    df = train.loc[val_ind, ['customer_ID','target'] ].copy()\n",
    "    df['prediction'] = preds\n",
    "    oof.append( df )\n",
    "    \n",
    "    del preds, df\n",
    "    _ = gc.collect()\n",
    "    \n",
    "oof = cudf.concat(oof,axis=0,ignore_index=True).set_index('customer_ID')\n",
    "#val_score = amex_metric(train_y, oof)\n",
    "#print(f\"Amex metric: {val_score}\")"
   ]
  },
  {
   "cell_type": "code",
   "execution_count": 10,
   "id": "2fde88be",
   "metadata": {
    "execution": {
     "iopub.execute_input": "2022-08-23T03:13:09.532328Z",
     "iopub.status.busy": "2022-08-23T03:13:09.532009Z",
     "iopub.status.idle": "2022-08-23T03:13:11.629938Z",
     "shell.execute_reply": "2022-08-23T03:13:11.628998Z"
    },
    "papermill": {
     "duration": 2.130307,
     "end_time": "2022-08-23T03:13:11.631892",
     "exception": false,
     "start_time": "2022-08-23T03:13:09.501585",
     "status": "completed"
    },
    "tags": []
   },
   "outputs": [
    {
     "data": {
      "text/html": [
       "<div>\n",
       "<style scoped>\n",
       "    .dataframe tbody tr th:only-of-type {\n",
       "        vertical-align: middle;\n",
       "    }\n",
       "\n",
       "    .dataframe tbody tr th {\n",
       "        vertical-align: top;\n",
       "    }\n",
       "\n",
       "    .dataframe thead th {\n",
       "        text-align: right;\n",
       "    }\n",
       "</style>\n",
       "<table border=\"1\" class=\"dataframe\">\n",
       "  <thead>\n",
       "    <tr style=\"text-align: right;\">\n",
       "      <th></th>\n",
       "      <th>customer_ID</th>\n",
       "      <th>target</th>\n",
       "      <th>prediction</th>\n",
       "    </tr>\n",
       "  </thead>\n",
       "  <tbody>\n",
       "    <tr>\n",
       "      <th>0</th>\n",
       "      <td>20eac26171c3d251c55fc78204e59fab1c15fc2bc96d0c...</td>\n",
       "      <td>1</td>\n",
       "      <td>0.763292</td>\n",
       "    </tr>\n",
       "    <tr>\n",
       "      <th>1</th>\n",
       "      <td>aea50fdf9b974ccec95fa177c3225a0f913483b457de6e...</td>\n",
       "      <td>0</td>\n",
       "      <td>0.000724</td>\n",
       "    </tr>\n",
       "    <tr>\n",
       "      <th>2</th>\n",
       "      <td>32cd2d41aef737b69089882754395925c96eaee1f4a859...</td>\n",
       "      <td>0</td>\n",
       "      <td>0.001136</td>\n",
       "    </tr>\n",
       "    <tr>\n",
       "      <th>3</th>\n",
       "      <td>8daa6d5dc2655a8a437531e6b8b96829113cdfe9bf6cae...</td>\n",
       "      <td>0</td>\n",
       "      <td>0.021550</td>\n",
       "    </tr>\n",
       "    <tr>\n",
       "      <th>4</th>\n",
       "      <td>0ceba351a3851202542feb49d7385bcef32f6037fc57c7...</td>\n",
       "      <td>1</td>\n",
       "      <td>0.883265</td>\n",
       "    </tr>\n",
       "  </tbody>\n",
       "</table>\n",
       "</div>"
      ],
      "text/plain": [
       "                                         customer_ID  target  prediction\n",
       "0  20eac26171c3d251c55fc78204e59fab1c15fc2bc96d0c...       1    0.763292\n",
       "1  aea50fdf9b974ccec95fa177c3225a0f913483b457de6e...       0    0.000724\n",
       "2  32cd2d41aef737b69089882754395925c96eaee1f4a859...       0    0.001136\n",
       "3  8daa6d5dc2655a8a437531e6b8b96829113cdfe9bf6cae...       0    0.021550\n",
       "4  0ceba351a3851202542feb49d7385bcef32f6037fc57c7...       1    0.883265"
      ]
     },
     "execution_count": 10,
     "metadata": {},
     "output_type": "execute_result"
    }
   ],
   "source": [
    "oof_cat = pd.read_parquet('../input/amex-team-mizo/train_feature_preprocessed.parquet', columns=['customer_ID']).drop_duplicates()\n",
    "oof_cat['customer_ID_hash'] = oof_cat['customer_ID'].apply(lambda x: int(x[-16:],16) ).astype('int64')\n",
    "oof_cat = oof_cat.set_index('customer_ID_hash')\n",
    "oof_cat = cudf.from_pandas(oof_cat)\n",
    "oof_cat = oof_cat.merge(oof, left_index=True, right_index=True)\n",
    "oof_cat = oof_cat.sort_index().reset_index(drop=True)\n",
    "oof_cat.to_csv(f'oof_cat.csv',index=False)\n",
    "oof_cat.head()"
   ]
  },
  {
   "cell_type": "markdown",
   "id": "856c9d15",
   "metadata": {
    "papermill": {
     "duration": 0.029068,
     "end_time": "2022-08-23T03:13:11.690960",
     "exception": false,
     "start_time": "2022-08-23T03:13:11.661892",
     "status": "completed"
    },
    "tags": []
   },
   "source": [
    "# Submission"
   ]
  },
  {
   "cell_type": "markdown",
   "id": "267ef448",
   "metadata": {
    "execution": {
     "iopub.execute_input": "2022-08-23T00:56:08.719751Z",
     "iopub.status.busy": "2022-08-23T00:56:08.718935Z",
     "iopub.status.idle": "2022-08-23T00:56:12.406539Z",
     "shell.execute_reply": "2022-08-23T00:56:12.405721Z",
     "shell.execute_reply.started": "2022-08-23T00:56:08.719709Z"
    },
    "papermill": {
     "duration": 0.029983,
     "end_time": "2022-08-23T03:13:11.750031",
     "exception": false,
     "start_time": "2022-08-23T03:13:11.720048",
     "status": "completed"
    },
    "tags": []
   },
   "source": [
    "sub = pd.read_pickle(TEST_PATH)[['customer_ID']]\n",
    "sub['prediction'] = y_test\n",
    "# DISPLAY PREDICTIONS\n",
    "sub.to_csv(f'submission_cat.csv',index=False)\n",
    "print('Submission file shape is', sub.shape )\n",
    "sub.head()"
   ]
  }
 ],
 "metadata": {
  "kernelspec": {
   "display_name": "Python 3",
   "language": "python",
   "name": "python3"
  },
  "language_info": {
   "codemirror_mode": {
    "name": "ipython",
    "version": 3
   },
   "file_extension": ".py",
   "mimetype": "text/x-python",
   "name": "python",
   "nbconvert_exporter": "python",
   "pygments_lexer": "ipython3",
   "version": "3.7.12"
  },
  "papermill": {
   "default_parameters": {},
   "duration": 1398.929969,
   "end_time": "2022-08-23T03:13:14.240673",
   "environment_variables": {},
   "exception": null,
   "input_path": "__notebook__.ipynb",
   "output_path": "__notebook__.ipynb",
   "parameters": {},
   "start_time": "2022-08-23T02:49:55.310704",
   "version": "2.3.4"
  }
 },
 "nbformat": 4,
 "nbformat_minor": 5
}
