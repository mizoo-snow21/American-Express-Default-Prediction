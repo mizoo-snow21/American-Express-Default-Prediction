{
 "cells": [
  {
   "cell_type": "markdown",
   "id": "50368e08",
   "metadata": {
    "papermill": {
     "duration": 0.008712,
     "end_time": "2022-08-20T13:42:19.283178",
     "exception": false,
     "start_time": "2022-08-20T13:42:19.274466",
     "status": "completed"
    },
    "tags": []
   },
   "source": [
    "# XGBoost Starter - LB 0.793\n",
    "In this notebook we build and train an XGBoost model using @raddar Kaggle dataset from [here][1] with discussion [here][2]. Then we engineer features suggested by @huseyincot in his notebooks [here][3] and [here][4]. This XGB model achieves CV 0.792 LB 0.793! When training with XGB, we use a special XGB dataloader called `DeviceQuantileDMatrix` which uses a small GPU memory footprint. This allows us to engineer more additional columns and train with more rows of data. Our feature engineering is performed using [RAPIDS][5] on the GPU to create new features quickly.\n",
    "\n",
    "[1]: https://www.kaggle.com/datasets/raddar/amex-data-integer-dtypes-parquet-format\n",
    "[2]: https://www.kaggle.com/competitions/amex-default-prediction/discussion/328514\n",
    "[3]: https://www.kaggle.com/code/huseyincot/amex-catboost-0-793\n",
    "[4]: https://www.kaggle.com/code/huseyincot/amex-agg-data-how-it-created\n",
    "[5]: https://rapids.ai/"
   ]
  },
  {
   "cell_type": "markdown",
   "id": "1ca81594",
   "metadata": {
    "papermill": {
     "duration": 0.007028,
     "end_time": "2022-08-20T13:42:19.297869",
     "exception": false,
     "start_time": "2022-08-20T13:42:19.290841",
     "status": "completed"
    },
    "tags": []
   },
   "source": [
    "# Load Libraries"
   ]
  },
  {
   "cell_type": "code",
   "execution_count": 1,
   "id": "2a40f1ef",
   "metadata": {
    "execution": {
     "iopub.execute_input": "2022-08-20T13:42:19.315111Z",
     "iopub.status.busy": "2022-08-20T13:42:19.314421Z",
     "iopub.status.idle": "2022-08-20T13:42:24.166202Z",
     "shell.execute_reply": "2022-08-20T13:42:24.165032Z"
    },
    "papermill": {
     "duration": 4.865038,
     "end_time": "2022-08-20T13:42:24.170025",
     "exception": false,
     "start_time": "2022-08-20T13:42:19.304987",
     "status": "completed"
    },
    "tags": []
   },
   "outputs": [
    {
     "name": "stdout",
     "output_type": "stream",
     "text": [
      "RAPIDS version 21.10.01\n"
     ]
    }
   ],
   "source": [
    "# LOAD LIBRARIES\n",
    "import pandas as pd, numpy as np # CPU libraries\n",
    "import cupy, cudf # GPU libraries\n",
    "import matplotlib.pyplot as plt, gc, os\n",
    "\n",
    "from tqdm import tqdm\n",
    "from sklearn.preprocessing import LabelEncoder\n",
    "\n",
    "print('RAPIDS version',cudf.__version__)"
   ]
  },
  {
   "cell_type": "code",
   "execution_count": 2,
   "id": "4ca88b0e",
   "metadata": {
    "execution": {
     "iopub.execute_input": "2022-08-20T13:42:24.187864Z",
     "iopub.status.busy": "2022-08-20T13:42:24.186915Z",
     "iopub.status.idle": "2022-08-20T13:42:24.192382Z",
     "shell.execute_reply": "2022-08-20T13:42:24.191275Z"
    },
    "papermill": {
     "duration": 0.016637,
     "end_time": "2022-08-20T13:42:24.194612",
     "exception": false,
     "start_time": "2022-08-20T13:42:24.177975",
     "status": "completed"
    },
    "tags": []
   },
   "outputs": [],
   "source": [
    "# VERSION NAME FOR SAVED MODEL FILES\n",
    "VER = 1\n",
    "\n",
    "# TRAIN RANDOM SEED\n",
    "SEED = 42\n",
    "\n",
    "# FILL NAN VALUE\n",
    "NAN_VALUE = -127 # will fit in int8\n",
    "\n",
    "# FOLDS PER MODEL\n",
    "FOLDS = 5"
   ]
  },
  {
   "cell_type": "code",
   "execution_count": 3,
   "id": "95c2e4e5",
   "metadata": {
    "execution": {
     "iopub.execute_input": "2022-08-20T13:42:24.210495Z",
     "iopub.status.busy": "2022-08-20T13:42:24.210156Z",
     "iopub.status.idle": "2022-08-20T13:42:24.219495Z",
     "shell.execute_reply": "2022-08-20T13:42:24.218404Z"
    },
    "papermill": {
     "duration": 0.019743,
     "end_time": "2022-08-20T13:42:24.221721",
     "exception": false,
     "start_time": "2022-08-20T13:42:24.201978",
     "status": "completed"
    },
    "tags": []
   },
   "outputs": [],
   "source": [
    "def init_logger(log_file='train.log'):\n",
    "    from logging import getLogger, INFO, FileHandler,  Formatter,  StreamHandler\n",
    "    logger = getLogger(__name__)\n",
    "    logger.setLevel(INFO)\n",
    "    handler1 = StreamHandler()\n",
    "    handler1.setFormatter(Formatter(\"%(message)s\"))\n",
    "    handler2 = FileHandler(filename=log_file)\n",
    "    handler2.setFormatter(Formatter(\"%(message)s\"))\n",
    "    logger.addHandler(handler1)\n",
    "    logger.addHandler(handler2)\n",
    "    return logger\n",
    "\n",
    "LOGGER = init_logger()"
   ]
  },
  {
   "cell_type": "markdown",
   "id": "ead3eea5",
   "metadata": {
    "papermill": {
     "duration": 0.007087,
     "end_time": "2022-08-20T13:42:24.236236",
     "exception": false,
     "start_time": "2022-08-20T13:42:24.229149",
     "status": "completed"
    },
    "tags": []
   },
   "source": [
    "# Process and Feature Engineer Train Data\n",
    "We will load @raddar Kaggle dataset from [here][1] with discussion [here][2]. Then we will engineer features suggested by @huseyincot in his notebooks [here][3] and [here][4]. We will use [RAPIDS][5] and the GPU to create new features quickly.\n",
    "\n",
    "[1]: https://www.kaggle.com/datasets/raddar/amex-data-integer-dtypes-parquet-format\n",
    "[2]: https://www.kaggle.com/competitions/amex-default-prediction/discussion/328514\n",
    "[3]: https://www.kaggle.com/code/huseyincot/amex-catboost-0-793\n",
    "[4]: https://www.kaggle.com/code/huseyincot/amex-agg-data-how-it-created\n",
    "[5]: https://rapids.ai/"
   ]
  },
  {
   "cell_type": "code",
   "execution_count": 4,
   "id": "c8d87b61",
   "metadata": {
    "execution": {
     "iopub.execute_input": "2022-08-20T13:42:24.252599Z",
     "iopub.status.busy": "2022-08-20T13:42:24.252204Z",
     "iopub.status.idle": "2022-08-20T13:42:49.182958Z",
     "shell.execute_reply": "2022-08-20T13:42:49.180655Z"
    },
    "papermill": {
     "duration": 24.941837,
     "end_time": "2022-08-20T13:42:49.185413",
     "exception": false,
     "start_time": "2022-08-20T13:42:24.243576",
     "status": "completed"
    },
    "tags": []
   },
   "outputs": [
    {
     "name": "stdout",
     "output_type": "stream",
     "text": [
      "Reading train data...\n",
      "shape of data: (458913, 1367)\n"
     ]
    }
   ],
   "source": [
    "def read_file(path = '', usecols = None):\n",
    "    # LOAD DATAFRAME\n",
    "    if usecols is not None: df = cudf.read_parquet(path, columns=usecols)\n",
    "    else: df = cudf.read_parquet(path)\n",
    "    # REDUCE DTYPE FOR CUSTOMER AND DATE\n",
    "    df['customer_ID'] = df['customer_ID'].str[-16:].str.hex_to_int().astype('int64')\n",
    "    #df.S_2 = cudf.to_datetime( df.S_2 )\n",
    "    # SORT BY CUSTOMER AND DATE (so agg('last') works correctly)\n",
    "    #df = df.sort_values(['customer_ID','S_2'])\n",
    "    #df = df.reset_index(drop=True)\n",
    "    # FILL NAN\n",
    "    df = df.fillna(NAN_VALUE) \n",
    "    print('shape of data:', df.shape)\n",
    "    \n",
    "    return df\n",
    "\n",
    "print('Reading train data...')\n",
    "TRAIN_PATH = '../input/amex-team-mizo/train_feature_preprocessed.parquet'\n",
    "train = read_file(path = TRAIN_PATH)"
   ]
  },
  {
   "cell_type": "code",
   "execution_count": 5,
   "id": "9a0761fb",
   "metadata": {
    "execution": {
     "iopub.execute_input": "2022-08-20T13:42:49.203563Z",
     "iopub.status.busy": "2022-08-20T13:42:49.202400Z",
     "iopub.status.idle": "2022-08-20T13:42:50.490080Z",
     "shell.execute_reply": "2022-08-20T13:42:50.488808Z"
    },
    "papermill": {
     "duration": 1.299014,
     "end_time": "2022-08-20T13:42:50.492362",
     "exception": false,
     "start_time": "2022-08-20T13:42:49.193348",
     "status": "completed"
    },
    "tags": []
   },
   "outputs": [
    {
     "data": {
      "text/html": [
       "<div>\n",
       "<style scoped>\n",
       "    .dataframe tbody tr th:only-of-type {\n",
       "        vertical-align: middle;\n",
       "    }\n",
       "\n",
       "    .dataframe tbody tr th {\n",
       "        vertical-align: top;\n",
       "    }\n",
       "\n",
       "    .dataframe thead th {\n",
       "        text-align: right;\n",
       "    }\n",
       "</style>\n",
       "<table border=\"1\" class=\"dataframe\">\n",
       "  <thead>\n",
       "    <tr style=\"text-align: right;\">\n",
       "      <th></th>\n",
       "      <th>customer_ID</th>\n",
       "      <th>P_2_mean</th>\n",
       "      <th>P_2_std</th>\n",
       "      <th>P_2_min</th>\n",
       "      <th>P_2_max</th>\n",
       "      <th>P_2_last</th>\n",
       "      <th>D_39_mean</th>\n",
       "      <th>D_39_std</th>\n",
       "      <th>D_39_min</th>\n",
       "      <th>D_39_max</th>\n",
       "      <th>...</th>\n",
       "      <th>D_136_last_mean_diff</th>\n",
       "      <th>D_137_last_mean_diff</th>\n",
       "      <th>D_138_last_mean_diff</th>\n",
       "      <th>D_139_last_mean_diff</th>\n",
       "      <th>D_140_last_mean_diff</th>\n",
       "      <th>D_141_last_mean_diff</th>\n",
       "      <th>D_142_last_mean_diff</th>\n",
       "      <th>D_143_last_mean_diff</th>\n",
       "      <th>D_144_last_mean_diff</th>\n",
       "      <th>D_145_last_mean_diff</th>\n",
       "    </tr>\n",
       "  </thead>\n",
       "  <tbody>\n",
       "    <tr>\n",
       "      <th>0</th>\n",
       "      <td>-4532153018459703766</td>\n",
       "      <td>0.933824</td>\n",
       "      <td>0.024194</td>\n",
       "      <td>0.868580</td>\n",
       "      <td>0.960384</td>\n",
       "      <td>0.934745</td>\n",
       "      <td>0.230769</td>\n",
       "      <td>0.832050</td>\n",
       "      <td>0</td>\n",
       "      <td>3</td>\n",
       "      <td>...</td>\n",
       "      <td>0.0</td>\n",
       "      <td>0.0</td>\n",
       "      <td>0.0</td>\n",
       "      <td>0.0</td>\n",
       "      <td>0.0</td>\n",
       "      <td>0.0</td>\n",
       "      <td>-127.0</td>\n",
       "      <td>0.0</td>\n",
       "      <td>-0.002313</td>\n",
       "      <td>0.0</td>\n",
       "    </tr>\n",
       "    <tr>\n",
       "      <th>1</th>\n",
       "      <td>-6696652885210834715</td>\n",
       "      <td>0.899820</td>\n",
       "      <td>0.022119</td>\n",
       "      <td>0.861109</td>\n",
       "      <td>0.929122</td>\n",
       "      <td>0.880519</td>\n",
       "      <td>7.153846</td>\n",
       "      <td>6.743468</td>\n",
       "      <td>0</td>\n",
       "      <td>19</td>\n",
       "      <td>...</td>\n",
       "      <td>0.0</td>\n",
       "      <td>0.0</td>\n",
       "      <td>0.0</td>\n",
       "      <td>0.0</td>\n",
       "      <td>0.0</td>\n",
       "      <td>0.0</td>\n",
       "      <td>-127.0</td>\n",
       "      <td>0.0</td>\n",
       "      <td>-0.001049</td>\n",
       "      <td>0.0</td>\n",
       "    </tr>\n",
       "    <tr>\n",
       "      <th>2</th>\n",
       "      <td>7128959966677571777</td>\n",
       "      <td>0.878454</td>\n",
       "      <td>0.028911</td>\n",
       "      <td>0.797670</td>\n",
       "      <td>0.904482</td>\n",
       "      <td>0.880875</td>\n",
       "      <td>0.000000</td>\n",
       "      <td>0.000000</td>\n",
       "      <td>0</td>\n",
       "      <td>0</td>\n",
       "      <td>...</td>\n",
       "      <td>0.0</td>\n",
       "      <td>0.0</td>\n",
       "      <td>0.0</td>\n",
       "      <td>0.0</td>\n",
       "      <td>0.0</td>\n",
       "      <td>0.0</td>\n",
       "      <td>-127.0</td>\n",
       "      <td>0.0</td>\n",
       "      <td>-0.004280</td>\n",
       "      <td>0.0</td>\n",
       "    </tr>\n",
       "    <tr>\n",
       "      <th>3</th>\n",
       "      <td>6537921148391624412</td>\n",
       "      <td>0.598969</td>\n",
       "      <td>0.020107</td>\n",
       "      <td>0.567442</td>\n",
       "      <td>0.623392</td>\n",
       "      <td>0.621776</td>\n",
       "      <td>1.538462</td>\n",
       "      <td>3.017045</td>\n",
       "      <td>0</td>\n",
       "      <td>9</td>\n",
       "      <td>...</td>\n",
       "      <td>0.0</td>\n",
       "      <td>0.0</td>\n",
       "      <td>0.0</td>\n",
       "      <td>0.0</td>\n",
       "      <td>0.0</td>\n",
       "      <td>0.0</td>\n",
       "      <td>-127.0</td>\n",
       "      <td>0.0</td>\n",
       "      <td>0.000792</td>\n",
       "      <td>0.0</td>\n",
       "    </tr>\n",
       "    <tr>\n",
       "      <th>4</th>\n",
       "      <td>2065103583825424365</td>\n",
       "      <td>0.891679</td>\n",
       "      <td>0.042325</td>\n",
       "      <td>0.805045</td>\n",
       "      <td>0.940382</td>\n",
       "      <td>0.871900</td>\n",
       "      <td>0.000000</td>\n",
       "      <td>0.000000</td>\n",
       "      <td>0</td>\n",
       "      <td>0</td>\n",
       "      <td>...</td>\n",
       "      <td>0.0</td>\n",
       "      <td>0.0</td>\n",
       "      <td>0.0</td>\n",
       "      <td>0.0</td>\n",
       "      <td>0.0</td>\n",
       "      <td>0.0</td>\n",
       "      <td>-127.0</td>\n",
       "      <td>0.0</td>\n",
       "      <td>0.002564</td>\n",
       "      <td>0.0</td>\n",
       "    </tr>\n",
       "  </tbody>\n",
       "</table>\n",
       "<p>5 rows × 1367 columns</p>\n",
       "</div>"
      ],
      "text/plain": [
       "           customer_ID  P_2_mean   P_2_std   P_2_min   P_2_max  P_2_last  \\\n",
       "0 -4532153018459703766  0.933824  0.024194  0.868580  0.960384  0.934745   \n",
       "1 -6696652885210834715  0.899820  0.022119  0.861109  0.929122  0.880519   \n",
       "2  7128959966677571777  0.878454  0.028911  0.797670  0.904482  0.880875   \n",
       "3  6537921148391624412  0.598969  0.020107  0.567442  0.623392  0.621776   \n",
       "4  2065103583825424365  0.891679  0.042325  0.805045  0.940382  0.871900   \n",
       "\n",
       "   D_39_mean  D_39_std  D_39_min  D_39_max  ...  D_136_last_mean_diff  \\\n",
       "0   0.230769  0.832050         0         3  ...                   0.0   \n",
       "1   7.153846  6.743468         0        19  ...                   0.0   \n",
       "2   0.000000  0.000000         0         0  ...                   0.0   \n",
       "3   1.538462  3.017045         0         9  ...                   0.0   \n",
       "4   0.000000  0.000000         0         0  ...                   0.0   \n",
       "\n",
       "   D_137_last_mean_diff  D_138_last_mean_diff  D_139_last_mean_diff  \\\n",
       "0                   0.0                   0.0                   0.0   \n",
       "1                   0.0                   0.0                   0.0   \n",
       "2                   0.0                   0.0                   0.0   \n",
       "3                   0.0                   0.0                   0.0   \n",
       "4                   0.0                   0.0                   0.0   \n",
       "\n",
       "   D_140_last_mean_diff  D_141_last_mean_diff  D_142_last_mean_diff  \\\n",
       "0                   0.0                   0.0                -127.0   \n",
       "1                   0.0                   0.0                -127.0   \n",
       "2                   0.0                   0.0                -127.0   \n",
       "3                   0.0                   0.0                -127.0   \n",
       "4                   0.0                   0.0                -127.0   \n",
       "\n",
       "   D_143_last_mean_diff  D_144_last_mean_diff  D_145_last_mean_diff  \n",
       "0                   0.0             -0.002313                   0.0  \n",
       "1                   0.0             -0.001049                   0.0  \n",
       "2                   0.0             -0.004280                   0.0  \n",
       "3                   0.0              0.000792                   0.0  \n",
       "4                   0.0              0.002564                   0.0  \n",
       "\n",
       "[5 rows x 1367 columns]"
      ]
     },
     "execution_count": 5,
     "metadata": {},
     "output_type": "execute_result"
    }
   ],
   "source": [
    "train.head()"
   ]
  },
  {
   "cell_type": "code",
   "execution_count": 6,
   "id": "759f5310",
   "metadata": {
    "execution": {
     "iopub.execute_input": "2022-08-20T13:42:50.513045Z",
     "iopub.status.busy": "2022-08-20T13:42:50.512614Z",
     "iopub.status.idle": "2022-08-20T13:42:50.519613Z",
     "shell.execute_reply": "2022-08-20T13:42:50.518408Z"
    },
    "papermill": {
     "duration": 0.018871,
     "end_time": "2022-08-20T13:42:50.522065",
     "exception": false,
     "start_time": "2022-08-20T13:42:50.503194",
     "status": "completed"
    },
    "tags": []
   },
   "outputs": [],
   "source": [
    "def process_and_feature_engineer(df):\n",
    "    # Transform float64 and float32 to float16\n",
    "    num_cols = list(df.dtypes[(df.dtypes == 'float32') | (df.dtypes == 'float64')].index)\n",
    "    for col in tqdm(num_cols):\n",
    "        df[col] = df[col].astype(np.float16)\n",
    "        #test[col] = test[col].astype(np.float16)\n",
    "    #features = [col for col in df.columns if col not in ['customer_ID', 'target']]\n",
    "    features = pd.read_pickle('../input/amex-fi/important_feature_30.pkl')\n",
    "    print('shape after engineering', df.shape )\n",
    "    \n",
    "    return df, features"
   ]
  },
  {
   "cell_type": "markdown",
   "id": "bb83cf35",
   "metadata": {
    "papermill": {
     "duration": 0.008205,
     "end_time": "2022-08-20T13:42:50.538278",
     "exception": false,
     "start_time": "2022-08-20T13:42:50.530073",
     "status": "completed"
    },
    "tags": []
   },
   "source": [
    "# Train XGB\n",
    "We will train using `DeviceQuantileDMatrix`. This has a very small GPU memory footprint."
   ]
  },
  {
   "cell_type": "code",
   "execution_count": 7,
   "id": "87117caf",
   "metadata": {
    "execution": {
     "iopub.execute_input": "2022-08-20T13:42:50.556451Z",
     "iopub.status.busy": "2022-08-20T13:42:50.556115Z",
     "iopub.status.idle": "2022-08-20T13:42:50.681428Z",
     "shell.execute_reply": "2022-08-20T13:42:50.680203Z"
    },
    "papermill": {
     "duration": 0.137898,
     "end_time": "2022-08-20T13:42:50.684195",
     "exception": false,
     "start_time": "2022-08-20T13:42:50.546297",
     "status": "completed"
    },
    "tags": []
   },
   "outputs": [
    {
     "name": "stdout",
     "output_type": "stream",
     "text": [
      "XGB Version 1.6.1\n"
     ]
    }
   ],
   "source": [
    "# LOAD XGB LIBRARY\n",
    "from sklearn.model_selection import KFold\n",
    "import xgboost as xgb\n",
    "print('XGB Version',xgb.__version__)\n",
    "\n",
    "# XGB MODEL PARAMETERS\n",
    "xgb_parms = { \n",
    "    'booster':'dart',\n",
    "    'max_depth':4, \n",
    "    'learning_rate':0.05, \n",
    "    'subsample':0.8,\n",
    "    'colsample_bytree':0.6, \n",
    "    'eval_metric':'logloss',\n",
    "    'objective':'binary:logistic',\n",
    "    'tree_method':'gpu_hist',\n",
    "    'predictor':'gpu_predictor',\n",
    "    'random_state':SEED\n",
    "}"
   ]
  },
  {
   "cell_type": "code",
   "execution_count": 8,
   "id": "52ad3669",
   "metadata": {
    "execution": {
     "iopub.execute_input": "2022-08-20T13:42:50.701379Z",
     "iopub.status.busy": "2022-08-20T13:42:50.700997Z",
     "iopub.status.idle": "2022-08-20T13:42:50.711137Z",
     "shell.execute_reply": "2022-08-20T13:42:50.709924Z"
    },
    "papermill": {
     "duration": 0.021348,
     "end_time": "2022-08-20T13:42:50.713460",
     "exception": false,
     "start_time": "2022-08-20T13:42:50.692112",
     "status": "completed"
    },
    "tags": []
   },
   "outputs": [],
   "source": [
    "# NEEDED WITH DeviceQuantileDMatrix BELOW\n",
    "class IterLoadForDMatrix(xgb.core.DataIter):\n",
    "    def __init__(self, df=None, features=None, target=None, batch_size=256*1024):\n",
    "        self.features = features\n",
    "        self.target = target\n",
    "        self.df = df\n",
    "        self.it = 0 # set iterator to 0\n",
    "        self.batch_size = batch_size\n",
    "        self.batches = int( np.ceil( len(df) / self.batch_size ) )\n",
    "        super().__init__()\n",
    "\n",
    "    def reset(self):\n",
    "        '''Reset the iterator'''\n",
    "        self.it = 0\n",
    "\n",
    "    def next(self, input_data):\n",
    "        '''Yield next batch of data.'''\n",
    "        if self.it == self.batches:\n",
    "            return 0 # Return 0 when there's no more batch.\n",
    "        \n",
    "        a = self.it * self.batch_size\n",
    "        b = min( (self.it + 1) * self.batch_size, len(self.df) )\n",
    "        dt = cudf.DataFrame(self.df.iloc[a:b])\n",
    "        input_data(data=dt[self.features], label=dt[self.target]) #, weight=dt['weight'])\n",
    "        self.it += 1\n",
    "        return 1"
   ]
  },
  {
   "cell_type": "code",
   "execution_count": 9,
   "id": "a725347d",
   "metadata": {
    "execution": {
     "iopub.execute_input": "2022-08-20T13:42:50.731143Z",
     "iopub.status.busy": "2022-08-20T13:42:50.730119Z",
     "iopub.status.idle": "2022-08-20T13:42:50.740894Z",
     "shell.execute_reply": "2022-08-20T13:42:50.739765Z"
    },
    "papermill": {
     "duration": 0.021832,
     "end_time": "2022-08-20T13:42:50.743177",
     "exception": false,
     "start_time": "2022-08-20T13:42:50.721345",
     "status": "completed"
    },
    "tags": []
   },
   "outputs": [],
   "source": [
    "# https://www.kaggle.com/kyakovlev\n",
    "# https://www.kaggle.com/competitions/amex-default-prediction/discussion/327534\n",
    "def amex_metric_mod(y_true, y_pred):\n",
    "\n",
    "    labels     = np.transpose(np.array([y_true, y_pred]))\n",
    "    labels     = labels[labels[:, 1].argsort()[::-1]]\n",
    "    weights    = np.where(labels[:,0]==0, 20, 1)\n",
    "    cut_vals   = labels[np.cumsum(weights) <= int(0.04 * np.sum(weights))]\n",
    "    top_four   = np.sum(cut_vals[:,0]) / np.sum(labels[:,0])\n",
    "\n",
    "    gini = [0,0]\n",
    "    for i in [1,0]:\n",
    "        labels         = np.transpose(np.array([y_true, y_pred]))\n",
    "        labels         = labels[labels[:, i].argsort()[::-1]]\n",
    "        weight         = np.where(labels[:,0]==0, 20, 1)\n",
    "        weight_random  = np.cumsum(weight / np.sum(weight))\n",
    "        total_pos      = np.sum(labels[:, 0] *  weight)\n",
    "        cum_pos_found  = np.cumsum(labels[:, 0] * weight)\n",
    "        lorentz        = cum_pos_found / total_pos\n",
    "        gini[i]        = np.sum((lorentz - weight_random) * weight)\n",
    "\n",
    "    return 0.5 * (gini[1]/gini[0] + top_four)"
   ]
  },
  {
   "cell_type": "code",
   "execution_count": 10,
   "id": "d76271b4",
   "metadata": {
    "execution": {
     "iopub.execute_input": "2022-08-20T13:42:50.760282Z",
     "iopub.status.busy": "2022-08-20T13:42:50.759970Z",
     "iopub.status.idle": "2022-08-20T13:50:07.390062Z",
     "shell.execute_reply": "2022-08-20T13:50:07.387401Z"
    },
    "papermill": {
     "duration": 436.641888,
     "end_time": "2022-08-20T13:50:07.393008",
     "exception": false,
     "start_time": "2022-08-20T13:42:50.751120",
     "status": "completed"
    },
    "tags": []
   },
   "outputs": [
    {
     "name": "stderr",
     "output_type": "stream",
     "text": [
      "100%|██████████| 1080/1080 [07:09<00:00,  2.51it/s]"
     ]
    },
    {
     "name": "stdout",
     "output_type": "stream",
     "text": [
      "shape after engineering (458913, 1367)\n"
     ]
    },
    {
     "name": "stderr",
     "output_type": "stream",
     "text": [
      "\n"
     ]
    }
   ],
   "source": [
    "train, features = process_and_feature_engineer(train.to_pandas())"
   ]
  },
  {
   "cell_type": "code",
   "execution_count": 11,
   "id": "3301e044",
   "metadata": {
    "execution": {
     "iopub.execute_input": "2022-08-20T13:50:07.523226Z",
     "iopub.status.busy": "2022-08-20T13:50:07.522289Z",
     "iopub.status.idle": "2022-08-20T13:50:07.617589Z",
     "shell.execute_reply": "2022-08-20T13:50:07.616405Z"
    },
    "papermill": {
     "duration": 0.162419,
     "end_time": "2022-08-20T13:50:07.620072",
     "exception": false,
     "start_time": "2022-08-20T13:50:07.457653",
     "status": "completed"
    },
    "tags": []
   },
   "outputs": [
    {
     "name": "stdout",
     "output_type": "stream",
     "text": [
      "<class 'pandas.core.frame.DataFrame'>\n",
      "Int64Index: 458913 entries, 0 to 458912\n",
      "Columns: 1367 entries, customer_ID to D_145_last_mean_diff\n",
      "dtypes: float16(1080), int16(27), int32(22), int64(13), int8(225)\n",
      "memory usage: 1.1 GB\n",
      "None\n"
     ]
    }
   ],
   "source": [
    "print(train.info())"
   ]
  },
  {
   "cell_type": "code",
   "execution_count": 12,
   "id": "15994194",
   "metadata": {
    "execution": {
     "iopub.execute_input": "2022-08-20T13:50:07.747010Z",
     "iopub.status.busy": "2022-08-20T13:50:07.746004Z",
     "iopub.status.idle": "2022-08-20T18:12:37.874768Z",
     "shell.execute_reply": "2022-08-20T18:12:37.873681Z"
    },
    "papermill": {
     "duration": 15750.193547,
     "end_time": "2022-08-20T18:12:37.877113",
     "exception": false,
     "start_time": "2022-08-20T13:50:07.683566",
     "status": "completed"
    },
    "scrolled": true,
    "tags": []
   },
   "outputs": [
    {
     "name": "stderr",
     "output_type": "stream",
     "text": [
      "There are 740 features!\n",
      "#########################\n",
      "### Fold 1\n",
      "### Train size 367130 Valid size　91783\n",
      "### Training with 100% fold data...\n",
      "#########################\n"
     ]
    },
    {
     "name": "stdout",
     "output_type": "stream",
     "text": [
      "[0]\ttrain-logloss:0.66201\tvalid-logloss:0.66201\n",
      "[100]\ttrain-logloss:0.23585\tvalid-logloss:0.23845\n",
      "[200]\ttrain-logloss:0.22171\tvalid-logloss:0.22674\n",
      "[300]\ttrain-logloss:0.21569\tvalid-logloss:0.22283\n",
      "[400]\ttrain-logloss:0.21189\tvalid-logloss:0.22108\n",
      "[500]\ttrain-logloss:0.20884\tvalid-logloss:0.22002\n",
      "[600]\ttrain-logloss:0.20619\tvalid-logloss:0.21918\n",
      "[700]\ttrain-logloss:0.20385\tvalid-logloss:0.21872\n",
      "[800]\ttrain-logloss:0.20173\tvalid-logloss:0.21830\n",
      "[900]\ttrain-logloss:0.19973\tvalid-logloss:0.21801\n",
      "[1000]\ttrain-logloss:0.19776\tvalid-logloss:0.21778\n",
      "[1100]\ttrain-logloss:0.19595\tvalid-logloss:0.21759\n",
      "[1200]\ttrain-logloss:0.19421\tvalid-logloss:0.21749\n",
      "[1300]\ttrain-logloss:0.19255\tvalid-logloss:0.21734\n",
      "[1400]\ttrain-logloss:0.19087\tvalid-logloss:0.21730\n",
      "[1500]\ttrain-logloss:0.18927\tvalid-logloss:0.21722\n",
      "[1600]\ttrain-logloss:0.18773\tvalid-logloss:0.21708\n",
      "[1700]\ttrain-logloss:0.18616\tvalid-logloss:0.21700\n",
      "[1800]\ttrain-logloss:0.18467\tvalid-logloss:0.21702\n",
      "[1900]\ttrain-logloss:0.18310\tvalid-logloss:0.21694\n",
      "[2000]\ttrain-logloss:0.18160\tvalid-logloss:0.21690\n",
      "[2100]\ttrain-logloss:0.18016\tvalid-logloss:0.21693\n",
      "[2119]\ttrain-logloss:0.17991\tvalid-logloss:0.21692\n"
     ]
    },
    {
     "name": "stderr",
     "output_type": "stream",
     "text": [
      "fold1 score: 0.7937502048496587\n",
      "#########################\n",
      "### Fold 2\n",
      "### Train size 367130 Valid size　91783\n",
      "### Training with 100% fold data...\n",
      "#########################\n"
     ]
    },
    {
     "name": "stdout",
     "output_type": "stream",
     "text": [
      "[0]\ttrain-logloss:0.66198\tvalid-logloss:0.66197\n",
      "[100]\ttrain-logloss:0.23589\tvalid-logloss:0.23830\n",
      "[200]\ttrain-logloss:0.22175\tvalid-logloss:0.22653\n",
      "[300]\ttrain-logloss:0.21568\tvalid-logloss:0.22260\n",
      "[400]\ttrain-logloss:0.21178\tvalid-logloss:0.22068\n",
      "[500]\ttrain-logloss:0.20878\tvalid-logloss:0.21965\n",
      "[600]\ttrain-logloss:0.20616\tvalid-logloss:0.21885\n",
      "[700]\ttrain-logloss:0.20385\tvalid-logloss:0.21828\n",
      "[800]\ttrain-logloss:0.20165\tvalid-logloss:0.21778\n",
      "[900]\ttrain-logloss:0.19965\tvalid-logloss:0.21745\n",
      "[1000]\ttrain-logloss:0.19775\tvalid-logloss:0.21710\n",
      "[1100]\ttrain-logloss:0.19602\tvalid-logloss:0.21689\n",
      "[1200]\ttrain-logloss:0.19428\tvalid-logloss:0.21670\n",
      "[1300]\ttrain-logloss:0.19255\tvalid-logloss:0.21662\n",
      "[1400]\ttrain-logloss:0.19086\tvalid-logloss:0.21656\n",
      "[1500]\ttrain-logloss:0.18929\tvalid-logloss:0.21647\n",
      "[1600]\ttrain-logloss:0.18770\tvalid-logloss:0.21640\n",
      "[1700]\ttrain-logloss:0.18618\tvalid-logloss:0.21638\n",
      "[1800]\ttrain-logloss:0.18467\tvalid-logloss:0.21639\n",
      "[1826]\ttrain-logloss:0.18425\tvalid-logloss:0.21640\n"
     ]
    },
    {
     "name": "stderr",
     "output_type": "stream",
     "text": [
      "fold2 score: 0.7955297986470808\n",
      "#########################\n",
      "### Fold 3\n",
      "### Train size 367130 Valid size　91783\n",
      "### Training with 100% fold data...\n",
      "#########################\n"
     ]
    },
    {
     "name": "stdout",
     "output_type": "stream",
     "text": [
      "[0]\ttrain-logloss:0.66205\tvalid-logloss:0.66196\n",
      "[100]\ttrain-logloss:0.23662\tvalid-logloss:0.23577\n",
      "[200]\ttrain-logloss:0.22244\tvalid-logloss:0.22385\n",
      "[300]\ttrain-logloss:0.21659\tvalid-logloss:0.22016\n",
      "[400]\ttrain-logloss:0.21267\tvalid-logloss:0.21830\n",
      "[500]\ttrain-logloss:0.20961\tvalid-logloss:0.21719\n",
      "[600]\ttrain-logloss:0.20695\tvalid-logloss:0.21644\n",
      "[700]\ttrain-logloss:0.20459\tvalid-logloss:0.21591\n",
      "[800]\ttrain-logloss:0.20249\tvalid-logloss:0.21546\n",
      "[900]\ttrain-logloss:0.20047\tvalid-logloss:0.21511\n",
      "[1000]\ttrain-logloss:0.19857\tvalid-logloss:0.21484\n",
      "[1100]\ttrain-logloss:0.19674\tvalid-logloss:0.21466\n",
      "[1200]\ttrain-logloss:0.19492\tvalid-logloss:0.21454\n",
      "[1300]\ttrain-logloss:0.19319\tvalid-logloss:0.21436\n",
      "[1400]\ttrain-logloss:0.19148\tvalid-logloss:0.21421\n",
      "[1500]\ttrain-logloss:0.18993\tvalid-logloss:0.21416\n",
      "[1600]\ttrain-logloss:0.18838\tvalid-logloss:0.21410\n",
      "[1698]\ttrain-logloss:0.18686\tvalid-logloss:0.21412\n"
     ]
    },
    {
     "name": "stderr",
     "output_type": "stream",
     "text": [
      "fold3 score: 0.7953325868816934\n",
      "#########################\n",
      "### Fold 4\n",
      "### Train size 367131 Valid size　91782\n",
      "### Training with 100% fold data...\n",
      "#########################\n"
     ]
    },
    {
     "name": "stdout",
     "output_type": "stream",
     "text": [
      "[0]\ttrain-logloss:0.66199\tvalid-logloss:0.66203\n",
      "[100]\ttrain-logloss:0.23604\tvalid-logloss:0.23904\n",
      "[200]\ttrain-logloss:0.22184\tvalid-logloss:0.22697\n",
      "[300]\ttrain-logloss:0.21580\tvalid-logloss:0.22298\n",
      "[400]\ttrain-logloss:0.21194\tvalid-logloss:0.22094\n",
      "[500]\ttrain-logloss:0.20900\tvalid-logloss:0.21981\n",
      "[600]\ttrain-logloss:0.20637\tvalid-logloss:0.21884\n",
      "[700]\ttrain-logloss:0.20408\tvalid-logloss:0.21825\n",
      "[800]\ttrain-logloss:0.20196\tvalid-logloss:0.21785\n",
      "[900]\ttrain-logloss:0.19999\tvalid-logloss:0.21748\n",
      "[1000]\ttrain-logloss:0.19807\tvalid-logloss:0.21723\n",
      "[1100]\ttrain-logloss:0.19631\tvalid-logloss:0.21703\n",
      "[1200]\ttrain-logloss:0.19457\tvalid-logloss:0.21688\n",
      "[1300]\ttrain-logloss:0.19288\tvalid-logloss:0.21675\n",
      "[1400]\ttrain-logloss:0.19122\tvalid-logloss:0.21664\n",
      "[1500]\ttrain-logloss:0.18962\tvalid-logloss:0.21649\n",
      "[1600]\ttrain-logloss:0.18804\tvalid-logloss:0.21636\n",
      "[1700]\ttrain-logloss:0.18648\tvalid-logloss:0.21628\n",
      "[1800]\ttrain-logloss:0.18499\tvalid-logloss:0.21627\n",
      "[1900]\ttrain-logloss:0.18347\tvalid-logloss:0.21616\n",
      "[2000]\ttrain-logloss:0.18197\tvalid-logloss:0.21616\n",
      "[2007]\ttrain-logloss:0.18189\tvalid-logloss:0.21617\n"
     ]
    },
    {
     "name": "stderr",
     "output_type": "stream",
     "text": [
      "fold4 score: 0.7918859100934627\n",
      "#########################\n",
      "### Fold 5\n",
      "### Train size 367131 Valid size　91782\n",
      "### Training with 100% fold data...\n",
      "#########################\n"
     ]
    },
    {
     "name": "stdout",
     "output_type": "stream",
     "text": [
      "[0]\ttrain-logloss:0.66195\tvalid-logloss:0.66214\n",
      "[100]\ttrain-logloss:0.23534\tvalid-logloss:0.24080\n",
      "[200]\ttrain-logloss:0.22123\tvalid-logloss:0.22899\n",
      "[300]\ttrain-logloss:0.21535\tvalid-logloss:0.22505\n",
      "[400]\ttrain-logloss:0.21148\tvalid-logloss:0.22299\n",
      "[500]\ttrain-logloss:0.20844\tvalid-logloss:0.22174\n",
      "[600]\ttrain-logloss:0.20585\tvalid-logloss:0.22098\n",
      "[700]\ttrain-logloss:0.20358\tvalid-logloss:0.22038\n",
      "[800]\ttrain-logloss:0.20145\tvalid-logloss:0.21986\n",
      "[900]\ttrain-logloss:0.19943\tvalid-logloss:0.21959\n",
      "[1000]\ttrain-logloss:0.19752\tvalid-logloss:0.21941\n",
      "[1100]\ttrain-logloss:0.19567\tvalid-logloss:0.21919\n",
      "[1200]\ttrain-logloss:0.19396\tvalid-logloss:0.21906\n",
      "[1300]\ttrain-logloss:0.19223\tvalid-logloss:0.21890\n",
      "[1400]\ttrain-logloss:0.19062\tvalid-logloss:0.21877\n",
      "[1500]\ttrain-logloss:0.18899\tvalid-logloss:0.21872\n",
      "[1600]\ttrain-logloss:0.18742\tvalid-logloss:0.21864\n",
      "[1700]\ttrain-logloss:0.18581\tvalid-logloss:0.21855\n",
      "[1795]\ttrain-logloss:0.18436\tvalid-logloss:0.21855\n"
     ]
    },
    {
     "name": "stderr",
     "output_type": "stream",
     "text": [
      "fold5 score: 0.7916351794951119\n",
      "all folds score: 0.7937686229524561\n"
     ]
    }
   ],
   "source": [
    "importances = []\n",
    "oof = []\n",
    "\n",
    "TRAIN_SUBSAMPLE = 1.0\n",
    "gc.collect()\n",
    "\n",
    "skf = KFold(n_splits=FOLDS, shuffle=True, random_state=SEED)\n",
    "#train = train.sort_index().reset_index()\n",
    "LOGGER.info(f'There are {len(features)} features!')\n",
    "for fold,(train_idx, valid_idx) in enumerate(skf.split(\n",
    "            train, train.target )):\n",
    "    \n",
    "    # TRAIN WITH SUBSAMPLE OF TRAIN FOLD DATA\n",
    "    if TRAIN_SUBSAMPLE<1.0:\n",
    "        np.random.seed(SEED)\n",
    "        train_idx = np.random.choice(train_idx, \n",
    "                       int(len(train_idx)*TRAIN_SUBSAMPLE), replace=False)\n",
    "        np.random.seed(None)\n",
    "    LOGGER.info('#'*25)\n",
    "    LOGGER.info(f'### Fold {fold+1}')\n",
    "    LOGGER.info(f'### Train size {len(train_idx)} Valid size　{len(valid_idx)}')\n",
    "    LOGGER.info(f'### Training with {int(TRAIN_SUBSAMPLE*100)}% fold data...')\n",
    "    LOGGER.info('#'*25)\n",
    "\n",
    "    # TRAIN, VALID, TEST FOR FOLD K\n",
    "    Xy_train = IterLoadForDMatrix(train.loc[train_idx], features, 'target')\n",
    "    X_valid = train.loc[valid_idx, features]\n",
    "    y_valid = train.loc[valid_idx, 'target']\n",
    "    \n",
    "    dtrain = xgb.DeviceQuantileDMatrix(Xy_train, max_bin=256)\n",
    "    dvalid = xgb.DMatrix(data=X_valid, label=y_valid)\n",
    "    \n",
    "    # TRAIN MODEL FOLD K\n",
    "    model = xgb.train(xgb_parms, \n",
    "                dtrain=dtrain,\n",
    "                evals=[(dtrain,'train'),(dvalid,'valid')],\n",
    "                num_boost_round=9999,\n",
    "                early_stopping_rounds=100,\n",
    "                verbose_eval=100) \n",
    "    model.save_model(f'XGB_v{VER}_fold{fold}.xgb')\n",
    "    \n",
    "    # GET FEATURE IMPORTANCE FOR FOLD K\n",
    "    dd = model.get_score(importance_type='weight')\n",
    "    df = pd.DataFrame({'feature':dd.keys(),f'importance_{fold}':dd.values()})\n",
    "    importances.append(df)\n",
    "            \n",
    "    # INFER OOF FOLD K\n",
    "    oof_preds = model.predict(dvalid)\n",
    "    acc = amex_metric_mod(y_valid.values, oof_preds)\n",
    "    LOGGER.info(f\"fold{fold+1} score: {acc}\")\n",
    "    \n",
    "    # SAVE OOF\n",
    "    df = train.loc[valid_idx, ['customer_ID','target'] ].copy()\n",
    "    df['oof_pred'] = oof_preds\n",
    "    oof.append( df )\n",
    "    \n",
    "    del dtrain, Xy_train, dd, df\n",
    "    del X_valid, y_valid, dvalid, model\n",
    "    _ = gc.collect()\n",
    "\n",
    "oof = pd.concat(oof,axis=0,ignore_index=True).set_index('customer_ID')\n",
    "acc = amex_metric_mod(oof.target.values, oof.oof_pred.values)\n",
    "LOGGER.info(f\"all folds score: {acc}\")"
   ]
  },
  {
   "cell_type": "code",
   "execution_count": 13,
   "id": "ca9e5f1a",
   "metadata": {
    "execution": {
     "iopub.execute_input": "2022-08-20T18:12:38.107500Z",
     "iopub.status.busy": "2022-08-20T18:12:38.106524Z",
     "iopub.status.idle": "2022-08-20T18:12:38.294872Z",
     "shell.execute_reply": "2022-08-20T18:12:38.293587Z"
    },
    "papermill": {
     "duration": 0.267561,
     "end_time": "2022-08-20T18:12:38.297430",
     "exception": false,
     "start_time": "2022-08-20T18:12:38.029869",
     "status": "completed"
    },
    "tags": []
   },
   "outputs": [],
   "source": [
    "# CLEAN RAM\n",
    "del train\n",
    "_ = gc.collect()"
   ]
  },
  {
   "cell_type": "markdown",
   "id": "8978936f",
   "metadata": {
    "papermill": {
     "duration": 0.074328,
     "end_time": "2022-08-20T18:12:38.444259",
     "exception": false,
     "start_time": "2022-08-20T18:12:38.369931",
     "status": "completed"
    },
    "tags": []
   },
   "source": [
    "# Save OOF Preds"
   ]
  },
  {
   "cell_type": "code",
   "execution_count": 14,
   "id": "57edf54e",
   "metadata": {
    "execution": {
     "iopub.execute_input": "2022-08-20T18:12:38.594878Z",
     "iopub.status.busy": "2022-08-20T18:12:38.594406Z",
     "iopub.status.idle": "2022-08-20T18:12:41.594693Z",
     "shell.execute_reply": "2022-08-20T18:12:41.593629Z"
    },
    "papermill": {
     "duration": 3.079888,
     "end_time": "2022-08-20T18:12:41.597410",
     "exception": false,
     "start_time": "2022-08-20T18:12:38.517522",
     "status": "completed"
    },
    "tags": []
   },
   "outputs": [
    {
     "data": {
      "text/html": [
       "<div>\n",
       "<style scoped>\n",
       "    .dataframe tbody tr th:only-of-type {\n",
       "        vertical-align: middle;\n",
       "    }\n",
       "\n",
       "    .dataframe tbody tr th {\n",
       "        vertical-align: top;\n",
       "    }\n",
       "\n",
       "    .dataframe thead th {\n",
       "        text-align: right;\n",
       "    }\n",
       "</style>\n",
       "<table border=\"1\" class=\"dataframe\">\n",
       "  <thead>\n",
       "    <tr style=\"text-align: right;\">\n",
       "      <th></th>\n",
       "      <th>customer_ID</th>\n",
       "      <th>target</th>\n",
       "      <th>oof_pred</th>\n",
       "    </tr>\n",
       "  </thead>\n",
       "  <tbody>\n",
       "    <tr>\n",
       "      <th>0</th>\n",
       "      <td>20eac26171c3d251c55fc78204e59fab1c15fc2bc96d0c...</td>\n",
       "      <td>1</td>\n",
       "      <td>0.651322</td>\n",
       "    </tr>\n",
       "    <tr>\n",
       "      <th>1</th>\n",
       "      <td>aea50fdf9b974ccec95fa177c3225a0f913483b457de6e...</td>\n",
       "      <td>0</td>\n",
       "      <td>0.000296</td>\n",
       "    </tr>\n",
       "    <tr>\n",
       "      <th>2</th>\n",
       "      <td>32cd2d41aef737b69089882754395925c96eaee1f4a859...</td>\n",
       "      <td>0</td>\n",
       "      <td>0.001616</td>\n",
       "    </tr>\n",
       "    <tr>\n",
       "      <th>3</th>\n",
       "      <td>8daa6d5dc2655a8a437531e6b8b96829113cdfe9bf6cae...</td>\n",
       "      <td>0</td>\n",
       "      <td>0.012508</td>\n",
       "    </tr>\n",
       "    <tr>\n",
       "      <th>4</th>\n",
       "      <td>0ceba351a3851202542feb49d7385bcef32f6037fc57c7...</td>\n",
       "      <td>1</td>\n",
       "      <td>0.861143</td>\n",
       "    </tr>\n",
       "  </tbody>\n",
       "</table>\n",
       "</div>"
      ],
      "text/plain": [
       "                                         customer_ID  target  oof_pred\n",
       "0  20eac26171c3d251c55fc78204e59fab1c15fc2bc96d0c...       1  0.651322\n",
       "1  aea50fdf9b974ccec95fa177c3225a0f913483b457de6e...       0  0.000296\n",
       "2  32cd2d41aef737b69089882754395925c96eaee1f4a859...       0  0.001616\n",
       "3  8daa6d5dc2655a8a437531e6b8b96829113cdfe9bf6cae...       0  0.012508\n",
       "4  0ceba351a3851202542feb49d7385bcef32f6037fc57c7...       1  0.861143"
      ]
     },
     "execution_count": 14,
     "metadata": {},
     "output_type": "execute_result"
    }
   ],
   "source": [
    "oof_xgb = pd.read_parquet(TRAIN_PATH, columns=['customer_ID']).drop_duplicates()\n",
    "oof_xgb['customer_ID_hash'] = oof_xgb['customer_ID'].apply(lambda x: int(x[-16:],16) ).astype('int64')\n",
    "oof_xgb = oof_xgb.set_index('customer_ID_hash')\n",
    "oof_xgb = oof_xgb.merge(oof, left_index=True, right_index=True)\n",
    "oof_xgb = oof_xgb.sort_index().reset_index(drop=True)\n",
    "oof_xgb.to_csv(f'oof_xgb_v{VER}.csv',index=False)\n",
    "oof_xgb.head()"
   ]
  },
  {
   "cell_type": "code",
   "execution_count": 15,
   "id": "6de59db8",
   "metadata": {
    "execution": {
     "iopub.execute_input": "2022-08-20T18:12:41.741886Z",
     "iopub.status.busy": "2022-08-20T18:12:41.741379Z",
     "iopub.status.idle": "2022-08-20T18:12:42.198906Z",
     "shell.execute_reply": "2022-08-20T18:12:42.197666Z"
    },
    "papermill": {
     "duration": 0.532373,
     "end_time": "2022-08-20T18:12:42.201339",
     "exception": false,
     "start_time": "2022-08-20T18:12:41.668966",
     "status": "completed"
    },
    "tags": []
   },
   "outputs": [
    {
     "data": {
      "image/png": "[encoded data removed]",
      "text/plain": [
       "<Figure size 432x288 with 1 Axes>"
      ]
     },
     "metadata": {
      "needs_background": "light"
     },
     "output_type": "display_data"
    }
   ],
   "source": [
    "# PLOT OOF PREDICTIONS\n",
    "plt.hist(oof_xgb.oof_pred.values, bins=100)\n",
    "plt.title('OOF Predictions')\n",
    "plt.show()"
   ]
  },
  {
   "cell_type": "code",
   "execution_count": 16,
   "id": "9db75bcd",
   "metadata": {
    "execution": {
     "iopub.execute_input": "2022-08-20T18:12:42.341362Z",
     "iopub.status.busy": "2022-08-20T18:12:42.340966Z",
     "iopub.status.idle": "2022-08-20T18:12:42.513943Z",
     "shell.execute_reply": "2022-08-20T18:12:42.512773Z"
    },
    "papermill": {
     "duration": 0.244952,
     "end_time": "2022-08-20T18:12:42.516409",
     "exception": false,
     "start_time": "2022-08-20T18:12:42.271457",
     "status": "completed"
    },
    "tags": []
   },
   "outputs": [],
   "source": [
    "# CLEAR VRAM, RAM FOR INFERENCE BELOW\n",
    "del oof_xgb, oof\n",
    "_ = gc.collect()"
   ]
  },
  {
   "cell_type": "markdown",
   "id": "68701bca",
   "metadata": {
    "papermill": {
     "duration": 0.07489,
     "end_time": "2022-08-20T18:12:42.665631",
     "exception": false,
     "start_time": "2022-08-20T18:12:42.590741",
     "status": "completed"
    },
    "tags": []
   },
   "source": [
    "# Feature Importance"
   ]
  },
  {
   "cell_type": "code",
   "execution_count": 17,
   "id": "22ae664d",
   "metadata": {
    "execution": {
     "iopub.execute_input": "2022-08-20T18:12:42.815186Z",
     "iopub.status.busy": "2022-08-20T18:12:42.814356Z",
     "iopub.status.idle": "2022-08-20T18:12:42.847108Z",
     "shell.execute_reply": "2022-08-20T18:12:42.846010Z"
    },
    "papermill": {
     "duration": 0.109932,
     "end_time": "2022-08-20T18:12:42.849798",
     "exception": false,
     "start_time": "2022-08-20T18:12:42.739866",
     "status": "completed"
    },
    "tags": []
   },
   "outputs": [],
   "source": [
    "import matplotlib.pyplot as plt\n",
    "\n",
    "df = importances[0].copy()\n",
    "for k in range(1,FOLDS): df = df.merge(importances[k], on='feature', how='left')\n",
    "df['importance'] = df.iloc[:,1:].mean(axis=1)\n",
    "df = df.sort_values('importance',ascending=False)\n",
    "df.to_csv(f'xgb_feature_importance_v{VER}.csv',index=False)"
   ]
  },
  {
   "cell_type": "code",
   "execution_count": 18,
   "id": "63ef31f0",
   "metadata": {
    "execution": {
     "iopub.execute_input": "2022-08-20T18:12:42.996189Z",
     "iopub.status.busy": "2022-08-20T18:12:42.995704Z",
     "iopub.status.idle": "2022-08-20T18:12:43.328671Z",
     "shell.execute_reply": "2022-08-20T18:12:43.327597Z"
    },
    "papermill": {
     "duration": 0.407603,
     "end_time": "2022-08-20T18:12:43.331097",
     "exception": false,
     "start_time": "2022-08-20T18:12:42.923494",
     "status": "completed"
    },
    "tags": []
   },
   "outputs": [
    {
     "data": {
      "image/png": "[encoded data removed]",
      "text/plain": [
       "<Figure size 720x720 with 1 Axes>"
      ]
     },
     "metadata": {
      "needs_background": "light"
     },
     "output_type": "display_data"
    }
   ],
   "source": [
    "NUM_FEATURES = 20\n",
    "plt.figure(figsize=(10,5*NUM_FEATURES//10))\n",
    "plt.barh(np.arange(NUM_FEATURES,0,-1), df.importance.values[:NUM_FEATURES])\n",
    "plt.yticks(np.arange(NUM_FEATURES,0,-1), df.feature.values[:NUM_FEATURES])\n",
    "plt.title(f'XGB Feature Importance - Top {NUM_FEATURES}')\n",
    "plt.show()"
   ]
  },
  {
   "cell_type": "markdown",
   "id": "b6c20aef",
   "metadata": {
    "papermill": {
     "duration": 0.074646,
     "end_time": "2022-08-20T18:12:43.477959",
     "exception": false,
     "start_time": "2022-08-20T18:12:43.403313",
     "status": "completed"
    },
    "tags": []
   },
   "source": [
    "# Process and Feature Engineer Test Data\n",
    "We will load @raddar Kaggle dataset from [here][1] with discussion [here][2]. Then we will engineer features suggested by @huseyincot in his notebooks [here][1] and [here][4]. We will use [RAPIDS][5] and the GPU to create new features quickly.\n",
    "\n",
    "[1]: https://www.kaggle.com/datasets/raddar/amex-data-integer-dtypes-parquet-format\n",
    "[2]: https://www.kaggle.com/competitions/amex-default-prediction/discussion/328514\n",
    "[3]: https://www.kaggle.com/code/huseyincot/amex-catboost-0-793\n",
    "[4]: https://www.kaggle.com/code/huseyincot/amex-agg-data-how-it-created\n",
    "[5]: https://rapids.ai/"
   ]
  },
  {
   "cell_type": "markdown",
   "id": "72dcf698",
   "metadata": {
    "execution": {
     "iopub.execute_input": "2022-08-20T06:56:27.080608Z",
     "iopub.status.busy": "2022-08-20T06:56:27.080200Z",
     "iopub.status.idle": "2022-08-20T06:56:27.358623Z",
     "shell.execute_reply": "2022-08-20T06:56:27.357703Z",
     "shell.execute_reply.started": "2022-08-20T06:56:27.080574Z"
    },
    "papermill": {
     "duration": 0.073521,
     "end_time": "2022-08-20T18:12:43.625468",
     "exception": false,
     "start_time": "2022-08-20T18:12:43.551947",
     "status": "completed"
    },
    "tags": []
   },
   "source": [
    "# CALCULATE SIZE OF EACH SEPARATE TEST PART\n",
    "def get_rows(customers, test, NUM_PARTS = 4, verbose = ''):\n",
    "    chunk = len(customers)//NUM_PARTS\n",
    "    if verbose != '':\n",
    "        print(f'We will process {verbose} data as {NUM_PARTS} separate parts.')\n",
    "        print(f'There will be {chunk} customers in each part (except the last part).')\n",
    "        print('Below are number of rows in each part:')\n",
    "    rows = []\n",
    "\n",
    "    for k in range(NUM_PARTS):\n",
    "        if k==NUM_PARTS-1: cc = customers[k*chunk:]\n",
    "        else: cc = customers[k*chunk:(k+1)*chunk]\n",
    "        s = test.loc[test.customer_ID.isin(cc)].shape[0]\n",
    "        rows.append(s)\n",
    "    if verbose != '': print( rows )\n",
    "    return rows,chunk\n",
    "\n",
    "# COMPUTE SIZE OF 4 PARTS FOR TEST DATA\n",
    "NUM_PARTS = 4\n",
    "TEST_PATH = '../input/amex-team-mizo/test_feature_preprocessed.parquet'\n",
    "\n",
    "print(f'Reading test data...')\n",
    "test = read_file(path = TEST_PATH, usecols = ['customer_ID','S_2'])\n",
    "customers = test[['customer_ID']].drop_duplicates().sort_index().values.flatten()\n",
    "rows,num_cust = get_rows(customers, test[['customer_ID']], NUM_PARTS = NUM_PARTS, verbose = 'test')"
   ]
  },
  {
   "cell_type": "markdown",
   "id": "f2ef1c2c",
   "metadata": {
    "execution": {
     "iopub.execute_input": "2022-08-20T07:03:21.638854Z",
     "iopub.status.busy": "2022-08-20T07:03:21.638262Z",
     "iopub.status.idle": "2022-08-20T07:03:21.644319Z",
     "shell.execute_reply": "2022-08-20T07:03:21.643556Z",
     "shell.execute_reply.started": "2022-08-20T07:03:21.638816Z"
    },
    "papermill": {
     "duration": 0.071637,
     "end_time": "2022-08-20T18:12:43.769990",
     "exception": false,
     "start_time": "2022-08-20T18:12:43.698353",
     "status": "completed"
    },
    "tags": []
   },
   "source": [
    "test.shape"
   ]
  },
  {
   "cell_type": "markdown",
   "id": "f67c818b",
   "metadata": {
    "papermill": {
     "duration": 0.073775,
     "end_time": "2022-08-20T18:12:43.915743",
     "exception": false,
     "start_time": "2022-08-20T18:12:43.841968",
     "status": "completed"
    },
    "tags": []
   },
   "source": [
    "# Infer Test"
   ]
  },
  {
   "cell_type": "markdown",
   "id": "e7b636f5",
   "metadata": {
    "execution": {
     "iopub.execute_input": "2022-08-20T07:04:11.346271Z",
     "iopub.status.busy": "2022-08-20T07:04:11.345657Z",
     "iopub.status.idle": "2022-08-20T07:06:20.660375Z",
     "shell.execute_reply": "2022-08-20T07:06:20.659286Z",
     "shell.execute_reply.started": "2022-08-20T07:04:11.346237Z"
    },
    "papermill": {
     "duration": 0.072816,
     "end_time": "2022-08-20T18:12:44.060091",
     "exception": false,
     "start_time": "2022-08-20T18:12:43.987275",
     "status": "completed"
    },
    "tags": []
   },
   "source": [
    "# INFER TEST DATA IN PARTS\n",
    "skip_rows = 0\n",
    "skip_cust = 0\n",
    "test_preds = []\n",
    "    \n",
    "for k in range(NUM_PARTS):\n",
    "    \n",
    "    # READ PART OF TEST DATA\n",
    "    print(f'\\nReading test data...')\n",
    "    test = read_file(path = TEST_PATH)\n",
    "    test = test.iloc[skip_rows:skip_rows+rows[k]]\n",
    "    skip_rows += rows[k]\n",
    "    print(f'=> Test part {k+1} has shape', test.shape )\n",
    "    \n",
    "    # PROCESS AND FEATURE ENGINEER PART OF TEST DATA\n",
    "    test, features = process_and_feature_engineer(test.to_pandas())\n",
    "    if k==NUM_PARTS-1:\n",
    "        test = test[test['customer_ID'].isin(customers[skip_cust:].get())]\n",
    "    else:\n",
    "        test = test[test['customer_ID'].isin(customers[skip_cust:skip_cust+num_cust].get())]\n",
    "    skip_cust += num_cust\n",
    "    \n",
    "    # TEST DATA FOR XGB\n",
    "    X_test = test[features]\n",
    "    dtest = xgb.DMatrix(data=X_test)\n",
    "    test = test[['P_2_mean']] # reduce memory\n",
    "    del X_test\n",
    "    gc.collect()\n",
    "\n",
    "    # INFER XGB MODELS ON TEST DATA/\n",
    "    model = xgb.Booster()\n",
    "    model.load_model(f'XGB_v{VER}_fold0.xgb')\n",
    "    preds = model.predict(dtest)\n",
    "    for f in range(1,FOLDS):\n",
    "        model.load_model(f'XGB_v{VER}_fold{f}.xgb')\n",
    "        preds += model.predict(dtest)\n",
    "    preds /= FOLDS\n",
    "    test_preds.append(preds)\n",
    "\n",
    "    # CLEAN MEMORY\n",
    "    del dtest, model\n",
    "    _ = gc.collect()"
   ]
  },
  {
   "cell_type": "markdown",
   "id": "ea74c8a4",
   "metadata": {
    "papermill": {
     "duration": 0.078834,
     "end_time": "2022-08-20T18:12:44.212744",
     "exception": false,
     "start_time": "2022-08-20T18:12:44.133910",
     "status": "completed"
    },
    "tags": []
   },
   "source": [
    "# Create Submission CSV"
   ]
  },
  {
   "cell_type": "markdown",
   "id": "ae14916d",
   "metadata": {
    "execution": {
     "iopub.status.busy": "2022-08-19T20:36:25.098518Z",
     "iopub.status.idle": "2022-08-19T20:36:25.099221Z",
     "shell.execute_reply": "2022-08-19T20:36:25.098994Z",
     "shell.execute_reply.started": "2022-08-19T20:36:25.098969Z"
    },
    "papermill": {
     "duration": 0.072616,
     "end_time": "2022-08-20T18:12:44.358788",
     "exception": false,
     "start_time": "2022-08-20T18:12:44.286172",
     "status": "completed"
    },
    "tags": []
   },
   "source": [
    "# WRITE SUBMISSION FILE\n",
    "test_preds = np.concatenate(test_preds)\n",
    "test = cudf.DataFrame(index=customers,data={'prediction':test_preds})\n",
    "sub = cudf.read_csv('../input/amex-default-prediction/sample_submission.csv')[['customer_ID']]\n",
    "sub['customer_ID_hash'] = sub['customer_ID'].str[-16:].str.hex_to_int().astype('int64')\n",
    "sub = sub.set_index('customer_ID_hash')\n",
    "sub = sub.merge(test[['prediction']], left_index=True, right_index=True, how='left')\n",
    "sub = sub.reset_index(drop=True)\n",
    "\n",
    "# DISPLAY PREDICTIONS\n",
    "sub.to_csv(f'submission_xgb_v{VER}.csv',index=False)\n",
    "print('Submission file shape is', sub.shape )\n",
    "sub.head()"
   ]
  },
  {
   "cell_type": "markdown",
   "id": "dca5575c",
   "metadata": {
    "execution": {
     "iopub.status.busy": "2022-08-19T20:36:25.100534Z",
     "iopub.status.idle": "2022-08-19T20:36:25.101248Z",
     "shell.execute_reply": "2022-08-19T20:36:25.101022Z",
     "shell.execute_reply.started": "2022-08-19T20:36:25.100996Z"
    },
    "papermill": {
     "duration": 0.078491,
     "end_time": "2022-08-20T18:12:44.509075",
     "exception": false,
     "start_time": "2022-08-20T18:12:44.430584",
     "status": "completed"
    },
    "tags": []
   },
   "source": [
    "# PLOT PREDICTIONS\n",
    "plt.hist(sub.to_pandas().prediction, bins=100)\n",
    "plt.title('Test Predictions')\n",
    "plt.show()"
   ]
  },
  {
   "cell_type": "code",
   "execution_count": null,
   "id": "cbee9acb",
   "metadata": {
    "papermill": {
     "duration": 0.071143,
     "end_time": "2022-08-20T18:12:44.651700",
     "exception": false,
     "start_time": "2022-08-20T18:12:44.580557",
     "status": "completed"
    },
    "tags": []
   },
   "outputs": [],
   "source": []
  }
 ],
 "metadata": {
  "kernelspec": {
   "display_name": "Python 3",
   "language": "python",
   "name": "python3"
  },
  "language_info": {
   "codemirror_mode": {
    "name": "ipython",
    "version": 3
   },
   "file_extension": ".py",
   "mimetype": "text/x-python",
   "name": "python",
   "nbconvert_exporter": "python",
   "pygments_lexer": "ipython3",
   "version": "3.7.12"
  },
  "papermill": {
   "default_parameters": {},
   "duration": 16238.798258,
   "end_time": "2022-08-20T18:12:47.161144",
   "environment_variables": {},
   "exception": null,
   "input_path": "__notebook__.ipynb",
   "output_path": "__notebook__.ipynb",
   "parameters": {},
   "start_time": "2022-08-20T13:42:08.362886",
   "version": "2.3.4"
  }
 },
 "nbformat": 4,
 "nbformat_minor": 5
}
